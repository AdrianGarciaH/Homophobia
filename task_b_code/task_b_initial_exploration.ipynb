{
 "cells": [
  {
   "cell_type": "code",
   "execution_count": 2,
   "id": "a12e23de",
   "metadata": {},
   "outputs": [],
   "source": [
    "import numpy as np\n",
    "import imblearn\n",
    "import pandas as pd\n",
    "import matplotlib.pyplot as plt\n",
    "import seaborn as sns\n",
    "%matplotlib inline"
   ]
  },
  {
   "cell_type": "markdown",
   "id": "d85c23ff",
   "metadata": {},
   "source": [
    "# English - Tamil"
   ]
  },
  {
   "cell_type": "markdown",
   "id": "ae318223",
   "metadata": {},
   "source": [
    "## Train set"
   ]
  },
  {
   "cell_type": "code",
   "execution_count": 17,
   "id": "656b3570",
   "metadata": {},
   "outputs": [],
   "source": [
    "ET_train = pd.read_table(\"../datasets/task_b/eng-tam_3_train.tsv\")"
   ]
  },
  {
   "cell_type": "code",
   "execution_count": 18,
   "id": "ad7fa62b",
   "metadata": {},
   "outputs": [
    {
     "name": "stdout",
     "output_type": "stream",
     "text": [
      "<class 'pandas.core.frame.DataFrame'>\n",
      "RangeIndex: 3861 entries, 0 to 3860\n",
      "Data columns (total 2 columns):\n",
      " #   Column    Non-Null Count  Dtype \n",
      "---  ------    --------------  ----- \n",
      " 0   category  3861 non-null   object\n",
      " 1   text      3861 non-null   object\n",
      "dtypes: object(2)\n",
      "memory usage: 60.5+ KB\n"
     ]
    }
   ],
   "source": [
    "ET_train.info()"
   ]
  },
  {
   "cell_type": "code",
   "execution_count": 19,
   "id": "c4495ae0",
   "metadata": {},
   "outputs": [],
   "source": [
    "ET_train = ET_train[['category', 'text']]"
   ]
  },
  {
   "cell_type": "code",
   "execution_count": 20,
   "id": "560fc29d",
   "metadata": {},
   "outputs": [
    {
     "data": {
      "text/html": [
       "<div>\n",
       "<style scoped>\n",
       "    .dataframe tbody tr th:only-of-type {\n",
       "        vertical-align: middle;\n",
       "    }\n",
       "\n",
       "    .dataframe tbody tr th {\n",
       "        vertical-align: top;\n",
       "    }\n",
       "\n",
       "    .dataframe thead th {\n",
       "        text-align: right;\n",
       "    }\n",
       "</style>\n",
       "<table border=\"1\" class=\"dataframe\">\n",
       "  <thead>\n",
       "    <tr style=\"text-align: right;\">\n",
       "      <th></th>\n",
       "      <th>category</th>\n",
       "      <th>text</th>\n",
       "    </tr>\n",
       "  </thead>\n",
       "  <tbody>\n",
       "    <tr>\n",
       "      <th>0</th>\n",
       "      <td>Homophobic</td>\n",
       "      <td>@Kadhayalla Nijam  thaa gay Punda Apo ne confi...</td>\n",
       "    </tr>\n",
       "    <tr>\n",
       "      <th>1</th>\n",
       "      <td>Non-anti-LGBT+ content</td>\n",
       "      <td>love you  too Nanba</td>\n",
       "    </tr>\n",
       "    <tr>\n",
       "      <th>2</th>\n",
       "      <td>Non-anti-LGBT+ content</td>\n",
       "      <td>Semma super 👍👍👍👍</td>\n",
       "    </tr>\n",
       "    <tr>\n",
       "      <th>3</th>\n",
       "      <td>Non-anti-LGBT+ content</td>\n",
       "      <td>Ava ka elom kadavuluka</td>\n",
       "    </tr>\n",
       "    <tr>\n",
       "      <th>4</th>\n",
       "      <td>Non-anti-LGBT+ content</td>\n",
       "      <td>Bro gay persons kalyanam panninaa kozhanda pet...</td>\n",
       "    </tr>\n",
       "    <tr>\n",
       "      <th>...</th>\n",
       "      <td>...</td>\n",
       "      <td>...</td>\n",
       "    </tr>\n",
       "    <tr>\n",
       "      <th>3856</th>\n",
       "      <td>Non-anti-LGBT+ content</td>\n",
       "      <td>Antha akka romba caring</td>\n",
       "    </tr>\n",
       "    <tr>\n",
       "      <th>3857</th>\n",
       "      <td>Non-anti-LGBT+ content</td>\n",
       "      <td>@Dan_Lei   Nii Pooi Vidurayaa  Unakku Yaarum v...</td>\n",
       "    </tr>\n",
       "    <tr>\n",
       "      <th>3858</th>\n",
       "      <td>Non-anti-LGBT+ content</td>\n",
       "      <td>Frnds neenga antha yedathula a irrunthaalum am...</td>\n",
       "    </tr>\n",
       "    <tr>\n",
       "      <th>3859</th>\n",
       "      <td>Non-anti-LGBT+ content</td>\n",
       "      <td>Looking pretty 🤩</td>\n",
       "    </tr>\n",
       "    <tr>\n",
       "      <th>3860</th>\n",
       "      <td>Non-anti-LGBT+ content</td>\n",
       "      <td>Apadi kai vekkumbothu kevalama yevono thittita...</td>\n",
       "    </tr>\n",
       "  </tbody>\n",
       "</table>\n",
       "<p>3861 rows × 2 columns</p>\n",
       "</div>"
      ],
      "text/plain": [
       "                    category  \\\n",
       "0                 Homophobic   \n",
       "1     Non-anti-LGBT+ content   \n",
       "2     Non-anti-LGBT+ content   \n",
       "3     Non-anti-LGBT+ content   \n",
       "4     Non-anti-LGBT+ content   \n",
       "...                      ...   \n",
       "3856  Non-anti-LGBT+ content   \n",
       "3857  Non-anti-LGBT+ content   \n",
       "3858  Non-anti-LGBT+ content   \n",
       "3859  Non-anti-LGBT+ content   \n",
       "3860  Non-anti-LGBT+ content   \n",
       "\n",
       "                                                   text  \n",
       "0     @Kadhayalla Nijam  thaa gay Punda Apo ne confi...  \n",
       "1                                   love you  too Nanba  \n",
       "2                                      Semma super 👍👍👍👍  \n",
       "3                                Ava ka elom kadavuluka  \n",
       "4     Bro gay persons kalyanam panninaa kozhanda pet...  \n",
       "...                                                 ...  \n",
       "3856                            Antha akka romba caring  \n",
       "3857  @Dan_Lei   Nii Pooi Vidurayaa  Unakku Yaarum v...  \n",
       "3858  Frnds neenga antha yedathula a irrunthaalum am...  \n",
       "3859                                   Looking pretty 🤩  \n",
       "3860  Apadi kai vekkumbothu kevalama yevono thittita...  \n",
       "\n",
       "[3861 rows x 2 columns]"
      ]
     },
     "execution_count": 20,
     "metadata": {},
     "output_type": "execute_result"
    }
   ],
   "source": [
    "ET_train"
   ]
  },
  {
   "cell_type": "code",
   "execution_count": 21,
   "id": "e1dc9fea",
   "metadata": {},
   "outputs": [
    {
     "data": {
      "text/plain": [
       "<AxesSubplot:title={'center':'Number of Tweets by Category'}, xlabel='category'>"
      ]
     },
     "execution_count": 21,
     "metadata": {},
     "output_type": "execute_result"
    },
    {
     "data": {
      "image/png": "[encoded data removed]",
      "text/plain": [
       "<Figure size 432x288 with 1 Axes>"
      ]
     },
     "metadata": {
      "needs_background": "light"
     },
     "output_type": "display_data"
    }
   ],
   "source": [
    "ET_train.groupby('category').text.count().plot.bar(title='Number of Tweets by Category')"
   ]
  },
  {
   "cell_type": "markdown",
   "id": "45fb059d",
   "metadata": {},
   "source": [
    "## Dev set"
   ]
  },
  {
   "cell_type": "code",
   "execution_count": 22,
   "id": "a205bef8",
   "metadata": {},
   "outputs": [],
   "source": [
    "ET_dev = pd.read_table(\"../datasets/task_b/eng-tam_3_dev.tsv\")"
   ]
  },
  {
   "cell_type": "code",
   "execution_count": 23,
   "id": "9b489556",
   "metadata": {},
   "outputs": [
    {
     "name": "stdout",
     "output_type": "stream",
     "text": [
      "<class 'pandas.core.frame.DataFrame'>\n",
      "RangeIndex: 966 entries, 0 to 965\n",
      "Data columns (total 20 columns):\n",
      " #   Column       Non-Null Count  Dtype \n",
      "---  ------       --------------  ----- \n",
      " 0   category     966 non-null    object\n",
      " 1   text         965 non-null    object\n",
      " 2   Unnamed: 2   38 non-null     object\n",
      " 3   Unnamed: 3   13 non-null     object\n",
      " 4   Unnamed: 4   8 non-null      object\n",
      " 5   Unnamed: 5   7 non-null      object\n",
      " 6   Unnamed: 6   5 non-null      object\n",
      " 7   Unnamed: 7   5 non-null      object\n",
      " 8   Unnamed: 8   3 non-null      object\n",
      " 9   Unnamed: 9   3 non-null      object\n",
      " 10  Unnamed: 10  3 non-null      object\n",
      " 11  Unnamed: 11  1 non-null      object\n",
      " 12  Unnamed: 12  1 non-null      object\n",
      " 13  Unnamed: 13  1 non-null      object\n",
      " 14  Unnamed: 14  1 non-null      object\n",
      " 15  Unnamed: 15  1 non-null      object\n",
      " 16  Unnamed: 16  1 non-null      object\n",
      " 17  Unnamed: 17  1 non-null      object\n",
      " 18  Unnamed: 18  1 non-null      object\n",
      " 19  Unnamed: 19  1 non-null      object\n",
      "dtypes: object(20)\n",
      "memory usage: 151.1+ KB\n"
     ]
    }
   ],
   "source": [
    "kan_dev.info()"
   ]
  }
 ],
 "metadata": {
  "kernelspec": {
   "display_name": "Python 3",
   "language": "python",
   "name": "python3"
  },
  "language_info": {
   "codemirror_mode": {
    "name": "ipython",
    "version": 3
   },
   "file_extension": ".py",
   "mimetype": "text/x-python",
   "name": "python",
   "nbconvert_exporter": "python",
   "pygments_lexer": "ipython3",
   "version": "3.6.9"
  }
 },
 "nbformat": 4,
 "nbformat_minor": 5
}
