{
 "cells": [
  {
   "cell_type": "code",
   "execution_count": 1,
   "id": "a7ea7f45",
   "metadata": {},
   "outputs": [],
   "source": [
    "import pandas as pd\n",
    "import numpy as np\n",
    "import torch\n",
    "from torch import cuda\n",
    "from torch.utils.data import Dataset, DataLoader\n",
    "from transformers import pipeline\n",
    "from transformers import AutoTokenizer, AutoModelForSequenceClassification\n",
    "from sklearn.metrics import accuracy_score, classification_report, precision_score, recall_score, f1_score\n",
    "from load_data import initialize_data\n",
    "from reading_datasets import read_task\n",
    "from labels_to_ids import labels_to_ids_tam\n",
    "import time\n",
    "import os\n",
    "os.environ[\"CUDA_VISIBLE_DEVICES\"]=\"0\""
   ]
  },
  {
   "cell_type": "code",
   "execution_count": 2,
   "id": "bcf25741",
   "metadata": {},
   "outputs": [],
   "source": [
    "def train(epoch, train_loader, model, optimizer, device, grad_step = 1, max_grad_norm = 10):\n",
    "    tr_loss, tr_accuracy = 0, 0\n",
    "    tr_precision, tr_recall = 0, 0\n",
    "    tr_f1score = 0\n",
    "    nb_tr_examples, nb_tr_steps = 0, 0\n",
    "    tr_preds, tr_labels = [], []\n",
    "    # put model in training mode\n",
    "    model.train()\n",
    "    optimizer.zero_grad()\n",
    "    \n",
    "    for idx, batch in enumerate(train_loader):\n",
    "        ids = batch['input_ids'].to(device, dtype = torch.long)\n",
    "        mask = batch['attention_mask'].to(device, dtype = torch.long)\n",
    "        labels = batch['labels'].to(device, dtype = torch.long)\n",
    "\n",
    "        if (idx + 1) % 20 == 0:\n",
    "            print('FINSIHED BATCH:', idx, 'of', len(train_loader))\n",
    "\n",
    "        #loss, tr_logits = model(input_ids=ids, attention_mask=mask, labels=labels)\n",
    "        output = model(input_ids=ids, attention_mask=mask, labels=labels)\n",
    "        tr_loss += output[0]\n",
    "\n",
    "        nb_tr_steps += 1\n",
    "        nb_tr_examples += labels.size(0)\n",
    "           \n",
    "        # compute training accuracy\n",
    "        flattened_targets = labels.view(-1) # shape (batch_size * seq_len,)\n",
    "        active_logits = output[1].view(-1, model.num_labels) # shape (batch_size * seq_len, num_labels)\n",
    "        flattened_predictions = torch.argmax(active_logits, axis=1) # shape (batch_size * seq_len,)\n",
    "        \n",
    "        # only compute accuracy at active labels\n",
    "        active_accuracy = labels.view(-1) != -100 # shape (batch_size, seq_len)\n",
    "        #active_labels = torch.where(active_accuracy, labels.view(-1), torch.tensor(-100).type_as(labels))\n",
    "        \n",
    "        labels = torch.masked_select(flattened_targets, active_accuracy)\n",
    "        predictions = torch.masked_select(flattened_predictions, active_accuracy)\n",
    "\n",
    "        tr_labels.extend(labels)\n",
    "        tr_preds.extend(predictions)\n",
    "\n",
    "        tmp_tr_accuracy = accuracy_score(labels.cpu().numpy(), predictions.cpu().numpy())\n",
    "        tr_accuracy += tmp_tr_accuracy\n",
    "        \n",
    "        # Compute Precision\n",
    "        tmp_tr_precision = precision_score(labels.cpu().numpy(), predictions.cpu().numpy(), average = 'macro', zero_division=0 )\n",
    "        tr_precision += tmp_tr_precision\n",
    "        \n",
    "        # Compute Recall\n",
    "        tmp_tr_recall = recall_score(labels.cpu().numpy(), predictions.cpu().numpy(), average = 'macro', zero_division=0)\n",
    "        tr_recall += tmp_tr_recall\n",
    "        \n",
    "        # Compute f1score\n",
    "        tmp_tr_f1score = f1_score(labels.cpu().numpy(), predictions.cpu().numpy(), average= 'macro', zero_division=0)\n",
    "        tr_f1score += tmp_tr_f1score\n",
    "    \n",
    "        # gradient clipping\n",
    "        torch.nn.utils.clip_grad_norm_(\n",
    "            parameters=model.parameters(), max_norm=max_grad_norm\n",
    "        )\n",
    "        \n",
    "        # backward pass\n",
    "        output['loss'].backward()\n",
    "        if (idx + 1) % grad_step == 0:\n",
    "            optimizer.step()\n",
    "            optimizer.zero_grad()\n",
    "\n",
    "    epoch_loss = tr_loss / nb_tr_steps\n",
    "    tr_accuracy = tr_accuracy / nb_tr_steps\n",
    "    tr_precision = tr_precision / nb_tr_steps\n",
    "    tr_recall = tr_recall / nb_tr_steps\n",
    "    tr_f1score= tr_f1score / nb_tr_steps\n",
    "    #print(f\"Training loss epoch: {epoch_loss}\")\n",
    "    #print(f\"Training accuracy epoch: {tr_accuracy}\")\n",
    "\n",
    "    return model"
   ]
  },
  {
   "cell_type": "code",
   "execution_count": 3,
   "id": "562ddd37",
   "metadata": {},
   "outputs": [],
   "source": [
    "def testing(model, testing_loader, labels_to_ids, device):\n",
    "    # put model in evaluation mode\n",
    "    model.eval()\n",
    "    \n",
    "    eval_loss, eval_accuracy = 0, 0\n",
    "    eval_precision, eval_recall = 0, 0\n",
    "    eval_f1score = 0\n",
    "    nb_eval_examples, nb_eval_steps = 0, 0\n",
    "    eval_preds, eval_labels = [], []\n",
    "     \n",
    "    \n",
    "    ids_to_labels = dict((v,k) for k,v in labels_to_ids.items())\n",
    "\n",
    "    with torch.no_grad():\n",
    "        for idx, batch in enumerate(testing_loader):\n",
    "            \n",
    "            ids = batch['input_ids'].to(device, dtype = torch.long)\n",
    "            mask = batch['attention_mask'].to(device, dtype = torch.long)\n",
    "            labels = batch['labels'].to(device, dtype = torch.long)\n",
    "            \n",
    "            #loss, eval_logits = model(input_ids=ids, attention_mask=mask, labels=labels)\n",
    "            output = model(input_ids=ids, attention_mask=mask, labels=labels)\n",
    "\n",
    "            eval_loss += output['loss'].item()\n",
    "\n",
    "            nb_eval_steps += 1\n",
    "            nb_eval_examples += labels.size(0)\n",
    "        \n",
    "            if idx % 100==0:\n",
    "                loss_step = eval_loss/nb_eval_steps\n",
    "                print(f\"Validation loss per 100 evaluation steps: {loss_step}\")\n",
    "              \n",
    "            # compute evaluation accuracy\n",
    "            flattened_targets = labels.view(-1) # shape (batch_size * seq_len,)\n",
    "            active_logits = output[1].view(-1, model.num_labels) # shape (batch_size * seq_len, num_labels)\n",
    "            flattened_predictions = torch.argmax(active_logits, axis=1) # shape (batch_size * seq_len,)\n",
    "            \n",
    "            # only compute accuracy at active labels\n",
    "            active_accuracy = labels.view(-1) != -100 # shape (batch_size, seq_len)\n",
    "        \n",
    "            labels = torch.masked_select(flattened_targets, active_accuracy)\n",
    "            predictions = torch.masked_select(flattened_predictions, active_accuracy)\n",
    "            \n",
    "            eval_labels.extend(labels)\n",
    "            eval_preds.extend(predictions)\n",
    "            \n",
    "            tmp_eval_accuracy = accuracy_score(labels.cpu().numpy(), predictions.cpu().numpy())\n",
    "            eval_accuracy += tmp_eval_accuracy\n",
    "            \n",
    "            # Compute Precision\n",
    "            tmp_eval_precision = precision_score(labels.cpu().numpy(), predictions.cpu().numpy(), average = 'macro', zero_division=0)\n",
    "            eval_precision += tmp_eval_precision\n",
    "            \n",
    "            # Compute Recall\n",
    "            tmp_eval_recall = recall_score(labels.cpu().numpy(), predictions.cpu().numpy(), average = 'macro', zero_division=0)\n",
    "            eval_recall += tmp_eval_recall\n",
    "            \n",
    "            # Compute f1score\n",
    "            tmp_eval_f1score = f1_score(labels.cpu().numpy(), predictions.cpu().numpy(), average='macro', zero_division=0)\n",
    "            eval_f1score += tmp_eval_f1score\n",
    "\n",
    "    labels = [ids_to_labels[id.item()] for id in eval_labels]\n",
    "    predictions = [ids_to_labels[id.item()] for id in eval_preds]\n",
    "    \n",
    "    eval_loss = eval_loss / nb_eval_steps\n",
    "    eval_accuracy = eval_accuracy / nb_eval_steps\n",
    "    eval_precision = eval_precision / nb_eval_steps\n",
    "    eval_recall = eval_recall / nb_eval_steps\n",
    "    eval_f1score = eval_f1score / nb_eval_steps\n",
    "    #print(f\"Validation Loss: {eval_loss}\")\n",
    "    #print(f\"Validation Accuracy: {eval_accuracy}\")\n",
    "\n",
    "    return labels, predictions, eval_accuracy, eval_precision, eval_recall, eval_f1score"
   ]
  },
  {
   "cell_type": "code",
   "execution_count": 4,
   "id": "74d3ba5b",
   "metadata": {},
   "outputs": [],
   "source": [
    "def main(n_epochs, model_name, model_save_flag, model_save_location, model_load_flag, model_load_location):\n",
    "    #Initialization training parameters\n",
    "    max_len = 256\n",
    "    batch_size = 32\n",
    "    grad_step = 1\n",
    "    learning_rate = 1e-05\n",
    "    initialization_input = (max_len, batch_size)\n",
    "\n",
    "    #Reading datasets and initializing data loaders\n",
    "    dataset_location = '../datasets/task_a/transliterated/'\n",
    "\n",
    "    train_data = read_task(dataset_location , split = 'tam_train_trans')\n",
    "    dev_data = read_task(dataset_location , split = 'tam_dev_trans')\n",
    "    #test_data = read_task(dataset_location , split = 'dev')#load test set\n",
    "    labels_to_ids = labels_to_ids_tam\n",
    "    #input_data = (train_data, dev_data, labels_to_ids)\n",
    "\n",
    "    #Define tokenizer, model and optimizer\n",
    "    device = 'cuda' if cuda.is_available() else 'cpu' #save the processing time\n",
    "    if model_load_flag:\n",
    "        tokenizer = AutoTokenizer.from_pretrained(model_load_location)\n",
    "        model = AutoModelForSequenceClassification.from_pretrained(model_load_location)\n",
    "    else: \n",
    "        tokenizer =  AutoTokenizer.from_pretrained(model_name, add_prefix_space=True)\n",
    "        model = AutoModelForSequenceClassification.from_pretrained(model_name, num_labels=len(labels_to_ids))\n",
    "    optimizer = torch.optim.Adam(params=model.parameters(), lr=learning_rate)\n",
    "    model.to(device)\n",
    "\n",
    "    #Get dataloaders\n",
    "    train_loader = initialize_data(tokenizer, initialization_input, train_data, labels_to_ids, shuffle = True)\n",
    "    dev_loader = initialize_data(tokenizer, initialization_input, dev_data, labels_to_ids, shuffle = True)\n",
    "    #test_loader = initialize_data(tokenizer, initialization_input, test_data, labels_to_ids, shuffle = True)#create test loader\n",
    "\n",
    "    best_dev_acc = 0\n",
    "    best_test_acc = 0\n",
    "    best_dev_precision = 0\n",
    "    best_test_precision = 0\n",
    "    best_dev_recall = 0\n",
    "    best_test_recall = 0\n",
    "    best_dev_f1score = 0\n",
    "    best_test_f1score = 0\n",
    "    best_epoch = -1\n",
    "    \n",
    "    list_dev_acc = [] \n",
    "    list_test_acc = []  \n",
    "    list_dev_precision = []  \n",
    "    list_test_precision  = []  \n",
    "    list_dev_recall = []  \n",
    "    list_test_recall = []  \n",
    "    list_dev_f1score = []  \n",
    "    list_test_f1score = []\n",
    "    \n",
    "    for epoch in range(n_epochs):\n",
    "        start = time.time()\n",
    "        print(f\"Training epoch: {epoch + 1}\")\n",
    "\n",
    "        #train model\n",
    "        if not model_load_flag:\n",
    "            model = train(epoch, train_loader, model, optimizer, device, grad_step)\n",
    "        \n",
    "        #testing and logging\n",
    "        labels_dev, predictions_dev, dev_accuracy, dev_precision, dev_recall, dev_f1score = testing(model, dev_loader, labels_to_ids, device)\n",
    "        print('DEV ACC:', dev_accuracy)\n",
    "        print('DEV Precision:' , dev_precision)\n",
    "        print('DEV Recall:' , dev_recall)\n",
    "        print('DEV F1Score:' , dev_f1score)\n",
    "        \n",
    "        list_dev_acc.append(dev_accuracy)     \n",
    "        list_dev_precision.append(dev_precision)   \n",
    "        list_dev_recall.append(dev_recall)  \n",
    "        list_dev_f1score.append(dev_f1score)  \n",
    "        \n",
    "        \n",
    "        #labels_test, predictions_test, test_accuracy, test_precision, test_recall, test_f1score = testing(model, test_loader, labels_to_ids, device)\n",
    "        #print('TEST ACC:', test_accuracy)\n",
    "        #print('TEST Precision:' , test_precision)\n",
    "        #print('TEST Recall:' , test_recall)\n",
    "        #print('TEST F1Score:' , test_f1score)\n",
    "        \n",
    "        #list_test_acc.append(test_accuracy) \n",
    "        #list_test_precision.append(test_precision)  \n",
    "        #list_test_recall.append(test_recall)\n",
    "        #list_test_f1score.append(test_f1score) \n",
    "\n",
    "        #saving model\n",
    "        if dev_accuracy > best_dev_acc:\n",
    "            best_dev_acc = dev_accuracy\n",
    "            #best_test_acc = test_accuracy\n",
    "        if dev_precision > best_dev_precision:\n",
    "            best_dev_precision = dev_precision\n",
    "            #best_test_precision = test_precision\n",
    "        if dev_recall > best_dev_recall:\n",
    "            best_dev_recall = dev_recall\n",
    "            #best_test_recall = test_recall\n",
    "        if dev_f1score > best_dev_f1score:\n",
    "            best_dev_f1score = dev_f1score\n",
    "            #best_test_f1score = test_f1score\n",
    "            best_epoch = epoch\n",
    "            \n",
    "            if model_save_flag:\n",
    "                os.makedirs(model_save_location, exist_ok=True)\n",
    "                tokenizer.save_pretrained(model_save_location)\n",
    "                model.save_pretrained(model_save_location)\n",
    "\n",
    "        now = time.time()\n",
    "        print('BEST ACCURACY --> ', 'DEV:', round(best_dev_acc, 5))\n",
    "        print('BEST PRECISION --> ', 'DEV:', round(best_dev_precision, 5))\n",
    "        print('BEST RECALL --> ', 'DEV:', round(best_dev_recall, 5))\n",
    "        print('BEST F1SCORE --> ', 'DEV:', round(best_dev_f1score, 5))\n",
    "        print('TIME PER EPOCH:', (now-start)/60 )\n",
    "        print()\n",
    "\n",
    "    return best_dev_acc, best_test_acc, best_epoch, best_dev_precision, best_test_precision, best_dev_recall, best_test_recall, best_dev_f1score, best_test_f1score, list_dev_acc, list_test_acc, list_dev_precision, list_test_precision, list_dev_recall, list_test_recall, list_dev_f1score, list_test_f1score"
   ]
  },
  {
   "cell_type": "code",
   "execution_count": null,
   "id": "7d77597b",
   "metadata": {},
   "outputs": [
    {
     "data": {
      "application/vnd.jupyter.widget-view+json": {
       "model_id": "8fa02c0ac7c6414191f2e22603f1cdb4",
       "version_major": 2,
       "version_minor": 0
      },
      "text/plain": [
       "Downloading:   0%|          | 0.00/615 [00:00<?, ?B/s]"
      ]
     },
     "metadata": {},
     "output_type": "display_data"
    },
    {
     "data": {
      "application/vnd.jupyter.widget-view+json": {
       "model_id": "8d3a75a7b4894db79c93b7036a13e02e",
       "version_major": 2,
       "version_minor": 0
      },
      "text/plain": [
       "Downloading:   0%|          | 0.00/4.83M [00:00<?, ?B/s]"
      ]
     },
     "metadata": {},
     "output_type": "display_data"
    },
    {
     "data": {
      "application/vnd.jupyter.widget-view+json": {
       "model_id": "f7de1fb5c7054741b2020596d862c5e4",
       "version_major": 2,
       "version_minor": 0
      },
      "text/plain": [
       "Downloading:   0%|          | 0.00/8.68M [00:00<?, ?B/s]"
      ]
     },
     "metadata": {},
     "output_type": "display_data"
    },
    {
     "data": {
      "application/vnd.jupyter.widget-view+json": {
       "model_id": "803cf2fd29984e09914c4cadd25ce6a6",
       "version_major": 2,
       "version_minor": 0
      },
      "text/plain": [
       "Downloading:   0%|          | 0.00/1.04G [00:00<?, ?B/s]"
      ]
     },
     "metadata": {},
     "output_type": "display_data"
    },
    {
     "name": "stderr",
     "output_type": "stream",
     "text": [
      "Some weights of the model checkpoint at xlm-roberta-base were not used when initializing XLMRobertaForSequenceClassification: ['lm_head.dense.weight', 'lm_head.bias', 'lm_head.decoder.weight', 'lm_head.dense.bias', 'lm_head.layer_norm.bias', 'roberta.pooler.dense.bias', 'lm_head.layer_norm.weight', 'roberta.pooler.dense.weight']\n",
      "- This IS expected if you are initializing XLMRobertaForSequenceClassification from the checkpoint of a model trained on another task or with another architecture (e.g. initializing a BertForSequenceClassification model from a BertForPreTraining model).\n",
      "- This IS NOT expected if you are initializing XLMRobertaForSequenceClassification from the checkpoint of a model that you expect to be exactly identical (initializing a BertForSequenceClassification model from a BertForSequenceClassification model).\n",
      "Some weights of XLMRobertaForSequenceClassification were not initialized from the model checkpoint at xlm-roberta-base and are newly initialized: ['classifier.dense.bias', 'classifier.out_proj.weight', 'classifier.dense.weight', 'classifier.out_proj.bias']\n",
      "You should probably TRAIN this model on a down-stream task to be able to use it for predictions and inference.\n"
     ]
    },
    {
     "name": "stdout",
     "output_type": "stream",
     "text": [
      "Training epoch: 1\n"
     ]
    }
   ],
   "source": [
    "if __name__ == '__main__':\n",
    "    n_epochs = 10\n",
    "    models = ['xlm-roberta-base']\n",
    "    \n",
    "    #model saving parameters\n",
    "    model_save_flag = True\n",
    "    model_load_flag = False\n",
    "    \n",
    "    overall_list_dev_acc = [] \n",
    "    overall_list_test_acc = []    \n",
    "    overall_list_dev_precision = []  \n",
    "    overall_list_test_precision  = []  \n",
    "    overall_list_dev_recall = []  \n",
    "    overall_list_test_recall = []  \n",
    "    overall_list_dev_f1score = []  \n",
    "    overall_list_test_f1score = [] \n",
    "    \n",
    "    for i in range(5):\n",
    "        \n",
    "        for model_name in models:\n",
    "\n",
    "            model_save_location = 'saved_models/' + model_name + 'Tamil' + 'transliterated' + str(i)\n",
    "            model_load_location = None\n",
    "\n",
    "            best_dev_acc, best_test_acc, best_epoch, best_dev_precision, best_test_precision, best_dev_recall, best_test_recall, best_dev_f1score, best_test_f1score, list_dev_acc, list_test_acc, list_dev_precision, list_test_precision, list_dev_recall, list_test_recall, list_dev_f1score, list_test_f1score = main(n_epochs, model_name, model_save_flag, model_save_location, model_load_flag, model_load_location)\n",
    "            \n",
    "            overall_list_dev_acc.append(list_dev_acc) \n",
    "            overall_list_test_acc.append(list_test_acc) \n",
    "            overall_list_dev_precision.append(list_dev_precision)  \n",
    "            overall_list_test_precision.append(list_test_precision) \n",
    "            overall_list_dev_recall.append(list_dev_recall)  \n",
    "            overall_list_test_recall.append(list_test_recall)  \n",
    "            overall_list_dev_f1score.append(list_dev_f1score)  \n",
    "            overall_list_test_f1score.append(list_test_f1score) "
   ]
  },
  {
   "cell_type": "code",
   "execution_count": null,
   "id": "196e9dee",
   "metadata": {},
   "outputs": [],
   "source": [
    "print(best_dev_acc)"
   ]
  },
  {
   "cell_type": "code",
   "execution_count": null,
   "id": "ced1188d",
   "metadata": {},
   "outputs": [],
   "source": [
    "print(best_epoch)"
   ]
  },
  {
   "cell_type": "code",
   "execution_count": null,
   "id": "c3a9b20d",
   "metadata": {},
   "outputs": [],
   "source": [
    "print(best_dev_precision)"
   ]
  },
  {
   "cell_type": "code",
   "execution_count": null,
   "id": "fd177b8a",
   "metadata": {},
   "outputs": [],
   "source": [
    "print(best_dev_recall)"
   ]
  },
  {
   "cell_type": "code",
   "execution_count": null,
   "id": "fa26b365",
   "metadata": {},
   "outputs": [],
   "source": [
    "print(best_dev_f1score)"
   ]
  },
  {
   "cell_type": "code",
   "execution_count": null,
   "id": "9c373e6c",
   "metadata": {},
   "outputs": [],
   "source": [
    "print(overall_list_dev_acc)"
   ]
  },
  {
   "cell_type": "code",
   "execution_count": null,
   "id": "ac29c8fa",
   "metadata": {},
   "outputs": [],
   "source": [
    "print(overall_list_dev_precision)"
   ]
  },
  {
   "cell_type": "code",
   "execution_count": null,
   "id": "b830b7e7",
   "metadata": {},
   "outputs": [],
   "source": [
    "print(overall_list_dev_recall)"
   ]
  },
  {
   "cell_type": "code",
   "execution_count": null,
   "id": "d9109a76",
   "metadata": {},
   "outputs": [],
   "source": [
    "print(overall_list_dev_f1score)"
   ]
  },
  {
   "cell_type": "code",
   "execution_count": null,
   "id": "319d8292",
   "metadata": {},
   "outputs": [],
   "source": [
    "#The best model is 0"
   ]
  },
  {
   "cell_type": "code",
   "execution_count": null,
   "id": "61540c34",
   "metadata": {},
   "outputs": [],
   "source": []
  }
 ],
 "metadata": {
  "kernelspec": {
   "display_name": "Python 3",
   "language": "python",
   "name": "python3"
  },
  "language_info": {
   "codemirror_mode": {
    "name": "ipython",
    "version": 3
   },
   "file_extension": ".py",
   "mimetype": "text/x-python",
   "name": "python",
   "nbconvert_exporter": "python",
   "pygments_lexer": "ipython3",
   "version": "3.6.9"
  }
 },
 "nbformat": 4,
 "nbformat_minor": 5
}
