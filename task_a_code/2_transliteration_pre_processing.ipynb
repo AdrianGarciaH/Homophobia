{
 "cells": [
  {
   "cell_type": "code",
   "execution_count": 1,
   "id": "5a0d6d97",
   "metadata": {},
   "outputs": [],
   "source": [
    "import numpy as np\n",
    "import pandas as pd\n",
    "from indictrans import Transliterator"
   ]
  },
  {
   "cell_type": "code",
   "execution_count": 2,
   "id": "6afe348d",
   "metadata": {},
   "outputs": [],
   "source": [
    "# load original data\n",
    "data = pd.read_table(\"../datasets/task_a/kan_sentiment_dev.tsv\")"
   ]
  },
  {
   "cell_type": "code",
   "execution_count": 3,
   "id": "1e177565",
   "metadata": {},
   "outputs": [
    {
     "data": {
      "text/html": [
       "<div>\n",
       "<style scoped>\n",
       "    .dataframe tbody tr th:only-of-type {\n",
       "        vertical-align: middle;\n",
       "    }\n",
       "\n",
       "    .dataframe tbody tr th {\n",
       "        vertical-align: top;\n",
       "    }\n",
       "\n",
       "    .dataframe thead th {\n",
       "        text-align: right;\n",
       "    }\n",
       "</style>\n",
       "<table border=\"1\" class=\"dataframe\">\n",
       "  <thead>\n",
       "    <tr style=\"text-align: right;\">\n",
       "      <th></th>\n",
       "      <th>text</th>\n",
       "      <th>category</th>\n",
       "    </tr>\n",
       "  </thead>\n",
       "  <tbody>\n",
       "    <tr>\n",
       "      <th>0</th>\n",
       "      <td>Binduge saryagi ugithidira good go ahead  we a...</td>\n",
       "      <td>Mixed feelings</td>\n",
       "    </tr>\n",
       "    <tr>\n",
       "      <th>1</th>\n",
       "      <td>yen song guru ...super</td>\n",
       "      <td>Positive</td>\n",
       "    </tr>\n",
       "    <tr>\n",
       "      <th>2</th>\n",
       "      <td>my fevorat story</td>\n",
       "      <td>not-Kannada</td>\n",
       "    </tr>\n",
       "    <tr>\n",
       "      <th>3</th>\n",
       "      <td>Super ತೋಗರಿ ತೀಪ್ಪ</td>\n",
       "      <td>Positive</td>\n",
       "    </tr>\n",
       "    <tr>\n",
       "      <th>4</th>\n",
       "      <td>ನಿಮ್ಮ ಮಾತುಗಳು ಅಕ್ಷರಶಃ ಸತ್ಯ... ನಿಮ್ಮ ಈ ಸಾಮಾನ್ಯ ...</td>\n",
       "      <td>Positive</td>\n",
       "    </tr>\n",
       "    <tr>\n",
       "      <th>...</th>\n",
       "      <td>...</td>\n",
       "      <td>...</td>\n",
       "    </tr>\n",
       "    <tr>\n",
       "      <th>686</th>\n",
       "      <td>@Nandi Parthasarathi ನಿಮ್ಮ ಅಪ್ಪ ದೊಡ್ ಗಾಂಡು ಸೂಳೆಮಗ</td>\n",
       "      <td>Negative</td>\n",
       "    </tr>\n",
       "    <tr>\n",
       "      <th>687</th>\n",
       "      <td>Hugi guru badethawke</td>\n",
       "      <td>Negative</td>\n",
       "    </tr>\n",
       "    <tr>\n",
       "      <th>688</th>\n",
       "      <td>Trending no.1 wow</td>\n",
       "      <td>Positive</td>\n",
       "    </tr>\n",
       "    <tr>\n",
       "      <th>689</th>\n",
       "      <td>@Troll Stupid Fans naanu adikke kano helthirod...</td>\n",
       "      <td>Positive</td>\n",
       "    </tr>\n",
       "    <tr>\n",
       "      <th>690</th>\n",
       "      <td>@JustAn Opinion ninu Tika mucchu...Evattu Kann...</td>\n",
       "      <td>Positive</td>\n",
       "    </tr>\n",
       "  </tbody>\n",
       "</table>\n",
       "<p>691 rows × 2 columns</p>\n",
       "</div>"
      ],
      "text/plain": [
       "                                                  text        category\n",
       "0    Binduge saryagi ugithidira good go ahead  we a...  Mixed feelings\n",
       "1                               yen song guru ...super        Positive\n",
       "2                                     my fevorat story     not-Kannada\n",
       "3                                    Super ತೋಗರಿ ತೀಪ್ಪ        Positive\n",
       "4    ನಿಮ್ಮ ಮಾತುಗಳು ಅಕ್ಷರಶಃ ಸತ್ಯ... ನಿಮ್ಮ ಈ ಸಾಮಾನ್ಯ ...        Positive\n",
       "..                                                 ...             ...\n",
       "686  @Nandi Parthasarathi ನಿಮ್ಮ ಅಪ್ಪ ದೊಡ್ ಗಾಂಡು ಸೂಳೆಮಗ        Negative\n",
       "687                               Hugi guru badethawke        Negative\n",
       "688                                  Trending no.1 wow        Positive\n",
       "689  @Troll Stupid Fans naanu adikke kano helthirod...        Positive\n",
       "690  @JustAn Opinion ninu Tika mucchu...Evattu Kann...        Positive\n",
       "\n",
       "[691 rows x 2 columns]"
      ]
     },
     "execution_count": 3,
     "metadata": {},
     "output_type": "execute_result"
    }
   ],
   "source": [
    "data"
   ]
  },
  {
   "cell_type": "code",
   "execution_count": 4,
   "id": "9537770d",
   "metadata": {},
   "outputs": [],
   "source": [
    "# instantiate the trasnliteration\n",
    "trn = Transliterator(source='eng', target='kan', build_lookup=True)"
   ]
  },
  {
   "cell_type": "code",
   "execution_count": 5,
   "id": "fbed46d7",
   "metadata": {},
   "outputs": [
    {
     "data": {
      "text/plain": [
       "'Super ತೋಗರಿ ತೀಪ್ಪ'"
      ]
     },
     "execution_count": 5,
     "metadata": {},
     "output_type": "execute_result"
    }
   ],
   "source": [
    "# test on a sample text\n",
    "# original\n",
    "data.iloc[3]['text']"
   ]
  },
  {
   "cell_type": "code",
   "execution_count": 6,
   "id": "e3ebc4dc",
   "metadata": {},
   "outputs": [
    {
     "data": {
      "text/plain": [
       "'ಸುಪರ್ ತೋಗರಿ ತೀಪ್ಪ'"
      ]
     },
     "execution_count": 6,
     "metadata": {},
     "output_type": "execute_result"
    }
   ],
   "source": [
    "# transliterated\n",
    "trn.transform(data.iloc[3]['text'])"
   ]
  },
  {
   "cell_type": "code",
   "execution_count": 7,
   "id": "80de4593",
   "metadata": {},
   "outputs": [],
   "source": [
    "# save the text column as a list in order to improve performance.\n",
    "list_orig = (data['text'].to_numpy()).tolist()"
   ]
  },
  {
   "cell_type": "code",
   "execution_count": 8,
   "id": "2200a8ac",
   "metadata": {},
   "outputs": [],
   "source": [
    "# create and empty list, iterate through the list of text and append the transliterated text to our list.\n",
    "list_trans = []\n",
    "for i in range(len(list_orig)):\n",
    "    list_trans.append(trn.transform(list_orig[i]))"
   ]
  },
  {
   "cell_type": "code",
   "execution_count": 9,
   "id": "02a7ab16",
   "metadata": {},
   "outputs": [],
   "source": [
    "# append the transliterated texts as a column on original dataframe\n",
    "data['text_trans'] = list_trans"
   ]
  },
  {
   "cell_type": "code",
   "execution_count": 10,
   "id": "28699407",
   "metadata": {},
   "outputs": [
    {
     "data": {
      "text/html": [
       "<div>\n",
       "<style scoped>\n",
       "    .dataframe tbody tr th:only-of-type {\n",
       "        vertical-align: middle;\n",
       "    }\n",
       "\n",
       "    .dataframe tbody tr th {\n",
       "        vertical-align: top;\n",
       "    }\n",
       "\n",
       "    .dataframe thead th {\n",
       "        text-align: right;\n",
       "    }\n",
       "</style>\n",
       "<table border=\"1\" class=\"dataframe\">\n",
       "  <thead>\n",
       "    <tr style=\"text-align: right;\">\n",
       "      <th></th>\n",
       "      <th>text</th>\n",
       "      <th>category</th>\n",
       "      <th>text_trans</th>\n",
       "    </tr>\n",
       "  </thead>\n",
       "  <tbody>\n",
       "    <tr>\n",
       "      <th>0</th>\n",
       "      <td>Binduge saryagi ugithidira good go ahead  we a...</td>\n",
       "      <td>Mixed feelings</td>\n",
       "      <td>ಬಿಂದೂಗೇ ಸರ್ಯಗೀ ಉಗೀಥೀದೀರಾ ಗುಡ್ ಗೋ ಅಹೆಡ್  ವೇ ಅರೇ...</td>\n",
       "    </tr>\n",
       "    <tr>\n",
       "      <th>1</th>\n",
       "      <td>yen song guru ...super</td>\n",
       "      <td>Positive</td>\n",
       "      <td>ಯೇನ ಸೋಂಗ್ ಗುರು ...ಸುಪರ್</td>\n",
       "    </tr>\n",
       "    <tr>\n",
       "      <th>2</th>\n",
       "      <td>my fevorat story</td>\n",
       "      <td>not-Kannada</td>\n",
       "      <td>ಮೀ ಫೆವರತ ಸ್ಟೋರಿ</td>\n",
       "    </tr>\n",
       "    <tr>\n",
       "      <th>3</th>\n",
       "      <td>Super ತೋಗರಿ ತೀಪ್ಪ</td>\n",
       "      <td>Positive</td>\n",
       "      <td>ಸುಪರ್ ತೋಗರಿ ತೀಪ್ಪ</td>\n",
       "    </tr>\n",
       "    <tr>\n",
       "      <th>4</th>\n",
       "      <td>ನಿಮ್ಮ ಮಾತುಗಳು ಅಕ್ಷರಶಃ ಸತ್ಯ... ನಿಮ್ಮ ಈ ಸಾಮಾನ್ಯ ...</td>\n",
       "      <td>Positive</td>\n",
       "      <td>ನಿಮ್ಮ ಮಾತುಗಳು ಅಕ್ಷರಶಃ ಸತ್ಯ... ನಿಮ್ಮ ಈ ಸಾಮಾನ್ಯ ...</td>\n",
       "    </tr>\n",
       "    <tr>\n",
       "      <th>...</th>\n",
       "      <td>...</td>\n",
       "      <td>...</td>\n",
       "      <td>...</td>\n",
       "    </tr>\n",
       "    <tr>\n",
       "      <th>686</th>\n",
       "      <td>@Nandi Parthasarathi ನಿಮ್ಮ ಅಪ್ಪ ದೊಡ್ ಗಾಂಡು ಸೂಳೆಮಗ</td>\n",
       "      <td>Negative</td>\n",
       "      <td>@ನಂದೀ ಪಾರ್ಥಾಸರಥೀ ನಿಮ್ಮ ಅಪ್ಪ ದೊಡ್ ಗಾಂಡು ಸೂಳೆಮಗ</td>\n",
       "    </tr>\n",
       "    <tr>\n",
       "      <th>687</th>\n",
       "      <td>Hugi guru badethawke</td>\n",
       "      <td>Negative</td>\n",
       "      <td>ಹುಗೀ ಗುರು ಬದೇತಾಕೆ</td>\n",
       "    </tr>\n",
       "    <tr>\n",
       "      <th>688</th>\n",
       "      <td>Trending no.1 wow</td>\n",
       "      <td>Positive</td>\n",
       "      <td>ಟ್ರೆಂಡಿಂಗ್ ನೋ.1 ವೋ</td>\n",
       "    </tr>\n",
       "    <tr>\n",
       "      <th>689</th>\n",
       "      <td>@Troll Stupid Fans naanu adikke kano helthirod...</td>\n",
       "      <td>Positive</td>\n",
       "      <td>@ಟ್ರೋಲ್ ಸ್ತುಪಿಡ್ ಫಂಸ ನಾನು ಆದಿಕಏ ಕಾನೋ ಹೇಲ್ಥೀರೋದ...</td>\n",
       "    </tr>\n",
       "    <tr>\n",
       "      <th>690</th>\n",
       "      <td>@JustAn Opinion ninu Tika mucchu...Evattu Kann...</td>\n",
       "      <td>Positive</td>\n",
       "      <td>@ಜುಸ್ತಾನ್ ಓಪಿನಿಯೋನ್ ನೀನು ಟಿಕಾ ಮುಕ್ಚು...ಇವತ್ತು ...</td>\n",
       "    </tr>\n",
       "  </tbody>\n",
       "</table>\n",
       "<p>691 rows × 3 columns</p>\n",
       "</div>"
      ],
      "text/plain": [
       "                                                  text        category  \\\n",
       "0    Binduge saryagi ugithidira good go ahead  we a...  Mixed feelings   \n",
       "1                               yen song guru ...super        Positive   \n",
       "2                                     my fevorat story     not-Kannada   \n",
       "3                                    Super ತೋಗರಿ ತೀಪ್ಪ        Positive   \n",
       "4    ನಿಮ್ಮ ಮಾತುಗಳು ಅಕ್ಷರಶಃ ಸತ್ಯ... ನಿಮ್ಮ ಈ ಸಾಮಾನ್ಯ ...        Positive   \n",
       "..                                                 ...             ...   \n",
       "686  @Nandi Parthasarathi ನಿಮ್ಮ ಅಪ್ಪ ದೊಡ್ ಗಾಂಡು ಸೂಳೆಮಗ        Negative   \n",
       "687                               Hugi guru badethawke        Negative   \n",
       "688                                  Trending no.1 wow        Positive   \n",
       "689  @Troll Stupid Fans naanu adikke kano helthirod...        Positive   \n",
       "690  @JustAn Opinion ninu Tika mucchu...Evattu Kann...        Positive   \n",
       "\n",
       "                                            text_trans  \n",
       "0    ಬಿಂದೂಗೇ ಸರ್ಯಗೀ ಉಗೀಥೀದೀರಾ ಗುಡ್ ಗೋ ಅಹೆಡ್  ವೇ ಅರೇ...  \n",
       "1                              ಯೇನ ಸೋಂಗ್ ಗುರು ...ಸುಪರ್  \n",
       "2                                      ಮೀ ಫೆವರತ ಸ್ಟೋರಿ  \n",
       "3                                    ಸುಪರ್ ತೋಗರಿ ತೀಪ್ಪ  \n",
       "4    ನಿಮ್ಮ ಮಾತುಗಳು ಅಕ್ಷರಶಃ ಸತ್ಯ... ನಿಮ್ಮ ಈ ಸಾಮಾನ್ಯ ...  \n",
       "..                                                 ...  \n",
       "686      @ನಂದೀ ಪಾರ್ಥಾಸರಥೀ ನಿಮ್ಮ ಅಪ್ಪ ದೊಡ್ ಗಾಂಡು ಸೂಳೆಮಗ  \n",
       "687                                  ಹುಗೀ ಗುರು ಬದೇತಾಕೆ  \n",
       "688                                 ಟ್ರೆಂಡಿಂಗ್ ನೋ.1 ವೋ  \n",
       "689  @ಟ್ರೋಲ್ ಸ್ತುಪಿಡ್ ಫಂಸ ನಾನು ಆದಿಕಏ ಕಾನೋ ಹೇಲ್ಥೀರೋದ...  \n",
       "690  @ಜುಸ್ತಾನ್ ಓಪಿನಿಯೋನ್ ನೀನು ಟಿಕಾ ಮುಕ್ಚು...ಇವತ್ತು ...  \n",
       "\n",
       "[691 rows x 3 columns]"
      ]
     },
     "execution_count": 10,
     "metadata": {},
     "output_type": "execute_result"
    }
   ],
   "source": [
    "data"
   ]
  },
  {
   "cell_type": "code",
   "execution_count": 32,
   "id": "575e9d09",
   "metadata": {},
   "outputs": [],
   "source": [
    "data.to_csv('kan_dev_trans.tsv', sep=\"\\t\", index = False)"
   ]
  },
  {
   "cell_type": "code",
   "execution_count": null,
   "id": "28c1a77b",
   "metadata": {},
   "outputs": [],
   "source": []
  }
 ],
 "metadata": {
  "kernelspec": {
   "display_name": "Python 3",
   "language": "python",
   "name": "python3"
  },
  "language_info": {
   "codemirror_mode": {
    "name": "ipython",
    "version": 3
   },
   "file_extension": ".py",
   "mimetype": "text/x-python",
   "name": "python",
   "nbconvert_exporter": "python",
   "pygments_lexer": "ipython3",
   "version": "3.6.9"
  }
 },
 "nbformat": 4,
 "nbformat_minor": 5
}
