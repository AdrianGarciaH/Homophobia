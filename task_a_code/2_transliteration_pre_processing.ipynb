{
 "cells": [
  {
   "cell_type": "code",
   "execution_count": 1,
   "id": "5a0d6d97",
   "metadata": {},
   "outputs": [],
   "source": [
    "import numpy as np\n",
    "import pandas as pd\n",
    "from indictrans import Transliterator"
   ]
  },
  {
   "cell_type": "code",
   "execution_count": 12,
   "id": "6afe348d",
   "metadata": {},
   "outputs": [],
   "source": [
    "# load original data\n",
    "data = pd.read_table(\"../datasets/task_a/kan_train_negative_augmented.tsv\")"
   ]
  },
  {
   "cell_type": "code",
   "execution_count": 13,
   "id": "1e177565",
   "metadata": {},
   "outputs": [
    {
     "data": {
      "text/html": [
       "<div>\n",
       "<style scoped>\n",
       "    .dataframe tbody tr th:only-of-type {\n",
       "        vertical-align: middle;\n",
       "    }\n",
       "\n",
       "    .dataframe tbody tr th {\n",
       "        vertical-align: top;\n",
       "    }\n",
       "\n",
       "    .dataframe thead th {\n",
       "        text-align: right;\n",
       "    }\n",
       "</style>\n",
       "<table border=\"1\" class=\"dataframe\">\n",
       "  <thead>\n",
       "    <tr style=\"text-align: right;\">\n",
       "      <th></th>\n",
       "      <th>text</th>\n",
       "      <th>category</th>\n",
       "    </tr>\n",
       "  </thead>\n",
       "  <tbody>\n",
       "    <tr>\n",
       "      <th>0</th>\n",
       "      <td>ಒಂದು ದೇಶದ ಮುಂದುವರಿಯುವುದು ಅದರ ಆರ್ಥಿಕ ಸ್ಥಿತಿಯನ್ನ...</td>\n",
       "      <td>Negative</td>\n",
       "    </tr>\n",
       "    <tr>\n",
       "      <th>1</th>\n",
       "      <td>ಕನ್ನಡದಲ್ಲಿ ಡೈಲಿ ಟೆಕ್ ಅಪ್ಡೇಟ್ಸ್ ಪಡೆಯಲು ಸಬ್ಸ್ಕ್ರ...</td>\n",
       "      <td>Positive</td>\n",
       "    </tr>\n",
       "    <tr>\n",
       "      <th>2</th>\n",
       "      <td>Super sar song</td>\n",
       "      <td>not-Kannada</td>\n",
       "    </tr>\n",
       "    <tr>\n",
       "      <th>3</th>\n",
       "      <td>Tiktokers present situation... nನೋಡುವವರು ಯಾರು ...</td>\n",
       "      <td>Negative</td>\n",
       "    </tr>\n",
       "    <tr>\n",
       "      <th>4</th>\n",
       "      <td>Super ಸಾಂಗ್ ವೆರಿ ನೈಸ್....</td>\n",
       "      <td>Positive</td>\n",
       "    </tr>\n",
       "    <tr>\n",
       "      <th>...</th>\n",
       "      <td>...</td>\n",
       "      <td>...</td>\n",
       "    </tr>\n",
       "    <tr>\n",
       "      <th>7842</th>\n",
       "      <td>ಇಡೈಲಾ ಕೆಜಿಎಫ್ ಬಿಜಿಎಂ ಕೆಡತು ಎನಕು ಮಧುಮಥಾನ 🤔🤔🤔🤔🤯</td>\n",
       "      <td>Negative</td>\n",
       "    </tr>\n",
       "    <tr>\n",
       "      <th>7843</th>\n",
       "      <td>ಜಯಲಲಿತಾ ಮೇಡಂ ಅವರಿಗೆ ಅಮೋಘ ನಿಗ್ರಹ...</td>\n",
       "      <td>Negative</td>\n",
       "    </tr>\n",
       "    <tr>\n",
       "      <th>7844</th>\n",
       "      <td>ದಯವಿಟ್ಟು ಎಲ್ಲದರ ಚಿತ್ರ ತೆಗೆಯಿರಿ ಸರ್.</td>\n",
       "      <td>Negative</td>\n",
       "    </tr>\n",
       "    <tr>\n",
       "      <th>7845</th>\n",
       "      <td>ಭಾರತದ ಅತಿ ದೊಡ್ಡ ಹೆದ್ದಾರಿ! ಭಾರತದ ದೊಡ್ಡ ತಾರೆಗಳು!...</td>\n",
       "      <td>Negative</td>\n",
       "    </tr>\n",
       "    <tr>\n",
       "      <th>7846</th>\n",
       "      <td>ವಾವ್ ರಜಿನಿ ಕರು ರಾಜಿಜಿ ಪಾಲ್ಸ್ ಲೈಕ್ ಹಿಟ್ ಮಾಡಿ</td>\n",
       "      <td>Negative</td>\n",
       "    </tr>\n",
       "  </tbody>\n",
       "</table>\n",
       "<p>7847 rows × 2 columns</p>\n",
       "</div>"
      ],
      "text/plain": [
       "                                                   text     category\n",
       "0     ಒಂದು ದೇಶದ ಮುಂದುವರಿಯುವುದು ಅದರ ಆರ್ಥಿಕ ಸ್ಥಿತಿಯನ್ನ...     Negative\n",
       "1     ಕನ್ನಡದಲ್ಲಿ ಡೈಲಿ ಟೆಕ್ ಅಪ್ಡೇಟ್ಸ್ ಪಡೆಯಲು ಸಬ್ಸ್ಕ್ರ...     Positive\n",
       "2                                        Super sar song  not-Kannada\n",
       "3     Tiktokers present situation... nನೋಡುವವರು ಯಾರು ...     Negative\n",
       "4                             Super ಸಾಂಗ್ ವೆರಿ ನೈಸ್....     Positive\n",
       "...                                                 ...          ...\n",
       "7842      ಇಡೈಲಾ ಕೆಜಿಎಫ್ ಬಿಜಿಎಂ ಕೆಡತು ಎನಕು ಮಧುಮಥಾನ 🤔🤔🤔🤔🤯     Negative\n",
       "7843                 ಜಯಲಲಿತಾ ಮೇಡಂ ಅವರಿಗೆ ಅಮೋಘ ನಿಗ್ರಹ...     Negative\n",
       "7844                ದಯವಿಟ್ಟು ಎಲ್ಲದರ ಚಿತ್ರ ತೆಗೆಯಿರಿ ಸರ್.     Negative\n",
       "7845  ಭಾರತದ ಅತಿ ದೊಡ್ಡ ಹೆದ್ದಾರಿ! ಭಾರತದ ದೊಡ್ಡ ತಾರೆಗಳು!...     Negative\n",
       "7846        ವಾವ್ ರಜಿನಿ ಕರು ರಾಜಿಜಿ ಪಾಲ್ಸ್ ಲೈಕ್ ಹಿಟ್ ಮಾಡಿ     Negative\n",
       "\n",
       "[7847 rows x 2 columns]"
      ]
     },
     "execution_count": 13,
     "metadata": {},
     "output_type": "execute_result"
    }
   ],
   "source": [
    "data"
   ]
  },
  {
   "cell_type": "code",
   "execution_count": 14,
   "id": "9537770d",
   "metadata": {},
   "outputs": [],
   "source": [
    "# instantiate the trasnliteration\n",
    "trn = Transliterator(source='kan', target='eng', build_lookup=True)"
   ]
  },
  {
   "cell_type": "code",
   "execution_count": 15,
   "id": "fbed46d7",
   "metadata": {},
   "outputs": [
    {
     "data": {
      "text/plain": [
       "'Tiktokers present situation... nನೋಡುವವರು ಯಾರು ನಮ್ಮ ವೀಡಿಯೋನೂ'"
      ]
     },
     "execution_count": 15,
     "metadata": {},
     "output_type": "execute_result"
    }
   ],
   "source": [
    "# test on a sample text\n",
    "# original\n",
    "data.iloc[3]['text']"
   ]
  },
  {
   "cell_type": "code",
   "execution_count": 16,
   "id": "e3ebc4dc",
   "metadata": {},
   "outputs": [
    {
     "data": {
      "text/plain": [
       "'Tiktokers present situation... nnoduvavaru yaaru namm videonu'"
      ]
     },
     "execution_count": 16,
     "metadata": {},
     "output_type": "execute_result"
    }
   ],
   "source": [
    "# transliterated\n",
    "trn.transform(data.iloc[3]['text'])"
   ]
  },
  {
   "cell_type": "code",
   "execution_count": 17,
   "id": "80de4593",
   "metadata": {},
   "outputs": [],
   "source": [
    "# save the text column as a list in order to improve performance.\n",
    "list_orig = (data['text'].to_numpy()).tolist()"
   ]
  },
  {
   "cell_type": "code",
   "execution_count": 18,
   "id": "2200a8ac",
   "metadata": {},
   "outputs": [],
   "source": [
    "# create and empty list, iterate through the list of text and append the transliterated text to our list.\n",
    "list_trans = []\n",
    "for i in range(len(list_orig)):\n",
    "    list_trans.append(trn.transform(list_orig[i]))"
   ]
  },
  {
   "cell_type": "code",
   "execution_count": 19,
   "id": "02a7ab16",
   "metadata": {},
   "outputs": [],
   "source": [
    "# append the transliterated texts as a column on original dataframe\n",
    "data['text_trans'] = list_trans"
   ]
  },
  {
   "cell_type": "code",
   "execution_count": 10,
   "id": "28699407",
   "metadata": {},
   "outputs": [
    {
     "data": {
      "text/html": [
       "<div>\n",
       "<style scoped>\n",
       "    .dataframe tbody tr th:only-of-type {\n",
       "        vertical-align: middle;\n",
       "    }\n",
       "\n",
       "    .dataframe tbody tr th {\n",
       "        vertical-align: top;\n",
       "    }\n",
       "\n",
       "    .dataframe thead th {\n",
       "        text-align: right;\n",
       "    }\n",
       "</style>\n",
       "<table border=\"1\" class=\"dataframe\">\n",
       "  <thead>\n",
       "    <tr style=\"text-align: right;\">\n",
       "      <th></th>\n",
       "      <th>text</th>\n",
       "      <th>category</th>\n",
       "      <th>text_trans</th>\n",
       "    </tr>\n",
       "  </thead>\n",
       "  <tbody>\n",
       "    <tr>\n",
       "      <th>0</th>\n",
       "      <td>ಒಂದು ದೇಶದ ಮುಂದುವರಿಯುವುದು ಅದರ ಆರ್ಥಿಕ ಸ್ಥಿತಿಯನ್ನ...</td>\n",
       "      <td>Negative</td>\n",
       "      <td>ಒಂದು ದೇಶದ ಮುಂದುವರಿಯುವುದು ಅದರ ಆರ್ಥಿಕ ಸ್ಥಿತಿಯನ್ನ...</td>\n",
       "    </tr>\n",
       "    <tr>\n",
       "      <th>1</th>\n",
       "      <td>ಕನ್ನಡದಲ್ಲಿ ಡೈಲಿ ಟೆಕ್ ಅಪ್ಡೇಟ್ಸ್ ಪಡೆಯಲು ಸಬ್ಸ್ಕ್ರ...</td>\n",
       "      <td>Positive</td>\n",
       "      <td>ಕನ್ನಡದಲ್ಲಿ ಡೈಲಿ ಟೆಕ್ ಅಪ್ಡೇಟ್ಸ್ ಪಡೆಯಲು ಸಬ್ಸ್ಕ್ರ...</td>\n",
       "    </tr>\n",
       "    <tr>\n",
       "      <th>2</th>\n",
       "      <td>Super sar song</td>\n",
       "      <td>not-Kannada</td>\n",
       "      <td>ಸುಪರ್ ಸಾರ ಸೋಂಗ್</td>\n",
       "    </tr>\n",
       "    <tr>\n",
       "      <th>3</th>\n",
       "      <td>Tiktokers present situation... nನೋಡುವವರು ಯಾರು ...</td>\n",
       "      <td>Negative</td>\n",
       "      <td>ಟೀಕ್ಟೋಕರ್ಸ್ ಪ್ರಸೇಂಟ್ ಸಿತುಂಏಶನ್... ನನೋಡುವವರು ಯಾ...</td>\n",
       "    </tr>\n",
       "    <tr>\n",
       "      <th>4</th>\n",
       "      <td>Super ಸಾಂಗ್ ವೆರಿ ನೈಸ್....</td>\n",
       "      <td>Positive</td>\n",
       "      <td>ಸುಪರ್ ಸಾಂಗ್ ವೆರಿ ನೈಸ್....</td>\n",
       "    </tr>\n",
       "    <tr>\n",
       "      <th>...</th>\n",
       "      <td>...</td>\n",
       "      <td>...</td>\n",
       "      <td>...</td>\n",
       "    </tr>\n",
       "    <tr>\n",
       "      <th>7842</th>\n",
       "      <td>ಇಡೈಲಾ ಕೆಜಿಎಫ್ ಬಿಜಿಎಂ ಕೆಡತು ಎನಕು ಮಧುಮಥಾನ 🤔🤔🤔🤔🤯</td>\n",
       "      <td>Negative</td>\n",
       "      <td>ಇಡೈಲಾ ಕೆಜಿಎಫ್ ಬಿಜಿಎಂ ಕೆಡತು ಎನಕು ಮಧುಮಥಾನ 🤔🤔🤔🤔🤯</td>\n",
       "    </tr>\n",
       "    <tr>\n",
       "      <th>7843</th>\n",
       "      <td>ಜಯಲಲಿತಾ ಮೇಡಂ ಅವರಿಗೆ ಅಮೋಘ ನಿಗ್ರಹ...</td>\n",
       "      <td>Negative</td>\n",
       "      <td>ಜಯಲಲಿತಾ ಮೇಡಂ ಅವರಿಗೆ ಅಮೋಘ ನಿಗ್ರಹ...</td>\n",
       "    </tr>\n",
       "    <tr>\n",
       "      <th>7844</th>\n",
       "      <td>ದಯವಿಟ್ಟು ಎಲ್ಲದರ ಚಿತ್ರ ತೆಗೆಯಿರಿ ಸರ್.</td>\n",
       "      <td>Negative</td>\n",
       "      <td>ದಯವಿಟ್ಟು ಎಲ್ಲದರ ಚಿತ್ರ ತೆಗೆಯಿರಿ ಸರ್.</td>\n",
       "    </tr>\n",
       "    <tr>\n",
       "      <th>7845</th>\n",
       "      <td>ಭಾರತದ ಅತಿ ದೊಡ್ಡ ಹೆದ್ದಾರಿ! ಭಾರತದ ದೊಡ್ಡ ತಾರೆಗಳು!...</td>\n",
       "      <td>Negative</td>\n",
       "      <td>ಭಾರತದ ಅತಿ ದೊಡ್ಡ ಹೆದ್ದಾರಿ! ಭಾರತದ ದೊಡ್ಡ ತಾರೆಗಳು!...</td>\n",
       "    </tr>\n",
       "    <tr>\n",
       "      <th>7846</th>\n",
       "      <td>ವಾವ್ ರಜಿನಿ ಕರು ರಾಜಿಜಿ ಪಾಲ್ಸ್ ಲೈಕ್ ಹಿಟ್ ಮಾಡಿ</td>\n",
       "      <td>Negative</td>\n",
       "      <td>ವಾವ್ ರಜಿನಿ ಕರು ರಾಜಿಜಿ ಪಾಲ್ಸ್ ಲೈಕ್ ಹಿಟ್ ಮಾಡಿ</td>\n",
       "    </tr>\n",
       "  </tbody>\n",
       "</table>\n",
       "<p>7847 rows × 3 columns</p>\n",
       "</div>"
      ],
      "text/plain": [
       "                                                   text     category  \\\n",
       "0     ಒಂದು ದೇಶದ ಮುಂದುವರಿಯುವುದು ಅದರ ಆರ್ಥಿಕ ಸ್ಥಿತಿಯನ್ನ...     Negative   \n",
       "1     ಕನ್ನಡದಲ್ಲಿ ಡೈಲಿ ಟೆಕ್ ಅಪ್ಡೇಟ್ಸ್ ಪಡೆಯಲು ಸಬ್ಸ್ಕ್ರ...     Positive   \n",
       "2                                        Super sar song  not-Kannada   \n",
       "3     Tiktokers present situation... nನೋಡುವವರು ಯಾರು ...     Negative   \n",
       "4                             Super ಸಾಂಗ್ ವೆರಿ ನೈಸ್....     Positive   \n",
       "...                                                 ...          ...   \n",
       "7842      ಇಡೈಲಾ ಕೆಜಿಎಫ್ ಬಿಜಿಎಂ ಕೆಡತು ಎನಕು ಮಧುಮಥಾನ 🤔🤔🤔🤔🤯     Negative   \n",
       "7843                 ಜಯಲಲಿತಾ ಮೇಡಂ ಅವರಿಗೆ ಅಮೋಘ ನಿಗ್ರಹ...     Negative   \n",
       "7844                ದಯವಿಟ್ಟು ಎಲ್ಲದರ ಚಿತ್ರ ತೆಗೆಯಿರಿ ಸರ್.     Negative   \n",
       "7845  ಭಾರತದ ಅತಿ ದೊಡ್ಡ ಹೆದ್ದಾರಿ! ಭಾರತದ ದೊಡ್ಡ ತಾರೆಗಳು!...     Negative   \n",
       "7846        ವಾವ್ ರಜಿನಿ ಕರು ರಾಜಿಜಿ ಪಾಲ್ಸ್ ಲೈಕ್ ಹಿಟ್ ಮಾಡಿ     Negative   \n",
       "\n",
       "                                             text_trans  \n",
       "0     ಒಂದು ದೇಶದ ಮುಂದುವರಿಯುವುದು ಅದರ ಆರ್ಥಿಕ ಸ್ಥಿತಿಯನ್ನ...  \n",
       "1     ಕನ್ನಡದಲ್ಲಿ ಡೈಲಿ ಟೆಕ್ ಅಪ್ಡೇಟ್ಸ್ ಪಡೆಯಲು ಸಬ್ಸ್ಕ್ರ...  \n",
       "2                                       ಸುಪರ್ ಸಾರ ಸೋಂಗ್  \n",
       "3     ಟೀಕ್ಟೋಕರ್ಸ್ ಪ್ರಸೇಂಟ್ ಸಿತುಂಏಶನ್... ನನೋಡುವವರು ಯಾ...  \n",
       "4                             ಸುಪರ್ ಸಾಂಗ್ ವೆರಿ ನೈಸ್....  \n",
       "...                                                 ...  \n",
       "7842      ಇಡೈಲಾ ಕೆಜಿಎಫ್ ಬಿಜಿಎಂ ಕೆಡತು ಎನಕು ಮಧುಮಥಾನ 🤔🤔🤔🤔🤯  \n",
       "7843                 ಜಯಲಲಿತಾ ಮೇಡಂ ಅವರಿಗೆ ಅಮೋಘ ನಿಗ್ರಹ...  \n",
       "7844                ದಯವಿಟ್ಟು ಎಲ್ಲದರ ಚಿತ್ರ ತೆಗೆಯಿರಿ ಸರ್.  \n",
       "7845  ಭಾರತದ ಅತಿ ದೊಡ್ಡ ಹೆದ್ದಾರಿ! ಭಾರತದ ದೊಡ್ಡ ತಾರೆಗಳು!...  \n",
       "7846        ವಾವ್ ರಜಿನಿ ಕರು ರಾಜಿಜಿ ಪಾಲ್ಸ್ ಲೈಕ್ ಹಿಟ್ ಮಾಡಿ  \n",
       "\n",
       "[7847 rows x 3 columns]"
      ]
     },
     "execution_count": 10,
     "metadata": {},
     "output_type": "execute_result"
    }
   ],
   "source": [
    "data"
   ]
  },
  {
   "cell_type": "code",
   "execution_count": 20,
   "id": "180737bd",
   "metadata": {},
   "outputs": [],
   "source": [
    "data.drop('text', axis = 1, inplace= True)"
   ]
  },
  {
   "cell_type": "code",
   "execution_count": 22,
   "id": "8a6fbaff",
   "metadata": {},
   "outputs": [],
   "source": [
    "data = data[['text_trans', 'category']]"
   ]
  },
  {
   "cell_type": "code",
   "execution_count": 23,
   "id": "6e79ccea",
   "metadata": {},
   "outputs": [
    {
     "data": {
      "text/html": [
       "<div>\n",
       "<style scoped>\n",
       "    .dataframe tbody tr th:only-of-type {\n",
       "        vertical-align: middle;\n",
       "    }\n",
       "\n",
       "    .dataframe tbody tr th {\n",
       "        vertical-align: top;\n",
       "    }\n",
       "\n",
       "    .dataframe thead th {\n",
       "        text-align: right;\n",
       "    }\n",
       "</style>\n",
       "<table border=\"1\" class=\"dataframe\">\n",
       "  <thead>\n",
       "    <tr style=\"text-align: right;\">\n",
       "      <th></th>\n",
       "      <th>text_trans</th>\n",
       "      <th>category</th>\n",
       "    </tr>\n",
       "  </thead>\n",
       "  <tbody>\n",
       "    <tr>\n",
       "      <th>0</th>\n",
       "      <td>ondu deshad munduvariyuvudu ader aarthik state...</td>\n",
       "      <td>Negative</td>\n",
       "    </tr>\n",
       "    <tr>\n",
       "      <th>1</th>\n",
       "      <td>kannadadalli daily tech apdates padeyalu sabsq...</td>\n",
       "      <td>Positive</td>\n",
       "    </tr>\n",
       "    <tr>\n",
       "      <th>2</th>\n",
       "      <td>Super sar song</td>\n",
       "      <td>not-Kannada</td>\n",
       "    </tr>\n",
       "    <tr>\n",
       "      <th>3</th>\n",
       "      <td>Tiktokers present situation... nnoduvavaru yaa...</td>\n",
       "      <td>Negative</td>\n",
       "    </tr>\n",
       "    <tr>\n",
       "      <th>4</th>\n",
       "      <td>Super san verry naise....</td>\n",
       "      <td>Positive</td>\n",
       "    </tr>\n",
       "    <tr>\n",
       "      <th>...</th>\n",
       "      <td>...</td>\n",
       "      <td>...</td>\n",
       "    </tr>\n",
       "    <tr>\n",
       "      <th>7842</th>\n",
       "      <td>idaila kejief bijiem kedtu enaku madhumathan 🤔...</td>\n",
       "      <td>Negative</td>\n",
       "    </tr>\n",
       "    <tr>\n",
       "      <th>7843</th>\n",
       "      <td>jayalalita madom avarige amogh nigrah...</td>\n",
       "      <td>Negative</td>\n",
       "    </tr>\n",
       "    <tr>\n",
       "      <th>7844</th>\n",
       "      <td>dayavittu ellader chitra tegeri sar.</td>\n",
       "      <td>Negative</td>\n",
       "    </tr>\n",
       "    <tr>\n",
       "      <th>7845</th>\n",
       "      <td>bharatad ati dodda heddari! bharatad dodda tar...</td>\n",
       "      <td>Negative</td>\n",
       "    </tr>\n",
       "    <tr>\n",
       "      <th>7846</th>\n",
       "      <td>vav rajini karu raziji pals like hit madi</td>\n",
       "      <td>Negative</td>\n",
       "    </tr>\n",
       "  </tbody>\n",
       "</table>\n",
       "<p>7847 rows × 2 columns</p>\n",
       "</div>"
      ],
      "text/plain": [
       "                                             text_trans     category\n",
       "0     ondu deshad munduvariyuvudu ader aarthik state...     Negative\n",
       "1     kannadadalli daily tech apdates padeyalu sabsq...     Positive\n",
       "2                                        Super sar song  not-Kannada\n",
       "3     Tiktokers present situation... nnoduvavaru yaa...     Negative\n",
       "4                             Super san verry naise....     Positive\n",
       "...                                                 ...          ...\n",
       "7842  idaila kejief bijiem kedtu enaku madhumathan 🤔...     Negative\n",
       "7843           jayalalita madom avarige amogh nigrah...     Negative\n",
       "7844               dayavittu ellader chitra tegeri sar.     Negative\n",
       "7845  bharatad ati dodda heddari! bharatad dodda tar...     Negative\n",
       "7846          vav rajini karu raziji pals like hit madi     Negative\n",
       "\n",
       "[7847 rows x 2 columns]"
      ]
     },
     "execution_count": 23,
     "metadata": {},
     "output_type": "execute_result"
    }
   ],
   "source": [
    "data"
   ]
  },
  {
   "cell_type": "code",
   "execution_count": null,
   "id": "46ea26e8",
   "metadata": {},
   "outputs": [],
   "source": []
  },
  {
   "cell_type": "code",
   "execution_count": 24,
   "id": "575e9d09",
   "metadata": {},
   "outputs": [],
   "source": [
    "data.to_csv('kan_train_negative_augmented_transliterated.tsv', sep=\"\\t\", index = False)"
   ]
  },
  {
   "cell_type": "code",
   "execution_count": null,
   "id": "28c1a77b",
   "metadata": {},
   "outputs": [],
   "source": []
  }
 ],
 "metadata": {
  "kernelspec": {
   "display_name": "Python 3",
   "language": "python",
   "name": "python3"
  },
  "language_info": {
   "codemirror_mode": {
    "name": "ipython",
    "version": 3
   },
   "file_extension": ".py",
   "mimetype": "text/x-python",
   "name": "python",
   "nbconvert_exporter": "python",
   "pygments_lexer": "ipython3",
   "version": "3.6.9"
  }
 },
 "nbformat": 4,
 "nbformat_minor": 5
}
