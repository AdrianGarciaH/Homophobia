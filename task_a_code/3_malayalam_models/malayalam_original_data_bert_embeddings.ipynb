{
 "cells": [
  {
   "cell_type": "code",
   "execution_count": 1,
   "id": "3d01cf2c",
   "metadata": {},
   "outputs": [],
   "source": [
    "## for data\n",
    "import json\n",
    "import pandas as pd\n",
    "import numpy as np\n",
    "## for plotting\n",
    "import matplotlib.pyplot as plt\n",
    "import seaborn as sns\n",
    "## for processing\n",
    "import re\n",
    "import nltk\n",
    "## for bag-of-words\n",
    "from sklearn import metrics, feature_extraction, feature_selection, model_selection, naive_bayes, pipeline, manifold, preprocessing\n",
    "## for explainer\n",
    "from lime import lime_text\n",
    "\n",
    "## for deep learning\n",
    "from tensorflow.keras import models, layers, preprocessing as kprocessing\n",
    "from tensorflow.keras import backend as K\n",
    "import torch\n",
    "\n",
    "## for bert language model\n",
    "import transformers\n",
    "from transformers import AutoTokenizer, AutoModel"
   ]
  },
  {
   "cell_type": "code",
   "execution_count": 2,
   "id": "24df72de",
   "metadata": {},
   "outputs": [
    {
     "data": {
      "text/plain": [
       "' The following shows the result of training various non-neural network models on the original version of the \\nmalayalam set. models are trained on an bert vectorizer'"
      ]
     },
     "execution_count": 2,
     "metadata": {},
     "output_type": "execute_result"
    }
   ],
   "source": [
    "''' The following shows the result of training various non-neural network models on the original version of the \n",
    "malayalam set. models are trained on an bert vectorizer'''"
   ]
  },
  {
   "cell_type": "code",
   "execution_count": 3,
   "id": "10341ea0",
   "metadata": {},
   "outputs": [],
   "source": [
    "# import data\n",
    "mal_train = pd.read_table(\"../../datasets/task_a/mal_sentiment_train.tsv\")\n",
    "mal_dev = pd.read_table(\"../../datasets/task_a/mal_sentiment_dev.tsv\")"
   ]
  },
  {
   "cell_type": "code",
   "execution_count": 4,
   "id": "b391822a",
   "metadata": {},
   "outputs": [],
   "source": [
    "mal_train = mal_train.rename(columns={'category': 'y'})\n",
    "mal_dev = mal_dev.rename(columns={'category': 'y'})"
   ]
  },
  {
   "cell_type": "code",
   "execution_count": 5,
   "id": "9ebf2575",
   "metadata": {},
   "outputs": [
    {
     "data": {
      "text/html": [
       "<div>\n",
       "<style scoped>\n",
       "    .dataframe tbody tr th:only-of-type {\n",
       "        vertical-align: middle;\n",
       "    }\n",
       "\n",
       "    .dataframe tbody tr th {\n",
       "        vertical-align: top;\n",
       "    }\n",
       "\n",
       "    .dataframe thead th {\n",
       "        text-align: right;\n",
       "    }\n",
       "</style>\n",
       "<table border=\"1\" class=\"dataframe\">\n",
       "  <thead>\n",
       "    <tr style=\"text-align: right;\">\n",
       "      <th></th>\n",
       "      <th>text</th>\n",
       "      <th>y</th>\n",
       "    </tr>\n",
       "  </thead>\n",
       "  <tbody>\n",
       "    <tr>\n",
       "      <th>0</th>\n",
       "      <td>Mammooka ninghal mass aa pwoli item</td>\n",
       "      <td>Positive</td>\n",
       "    </tr>\n",
       "    <tr>\n",
       "      <th>1</th>\n",
       "      <td>Waiting for Malayalam movie  For Tamil paiyan</td>\n",
       "      <td>not-malayalam</td>\n",
       "    </tr>\n",
       "    <tr>\n",
       "      <th>2</th>\n",
       "      <td>ദളപതി ഫാൻസിന്റെ വക ഒരു ഒന്നൊന്നര വിജയാശംസകൾ...</td>\n",
       "      <td>Positive</td>\n",
       "    </tr>\n",
       "    <tr>\n",
       "      <th>3</th>\n",
       "      <td>#Trailer pwolichuuuu ഓണത്തിന് വന്നങ്ങു തകർത്തേ...</td>\n",
       "      <td>Positive</td>\n",
       "    </tr>\n",
       "    <tr>\n",
       "      <th>4</th>\n",
       "      <td>Mammoookkaaaa polichadukkiii katta waiting nv 21</td>\n",
       "      <td>Positive</td>\n",
       "    </tr>\n",
       "    <tr>\n",
       "      <th>...</th>\n",
       "      <td>...</td>\n",
       "      <td>...</td>\n",
       "    </tr>\n",
       "    <tr>\n",
       "      <th>1761</th>\n",
       "      <td>Aa ചിരി uff എന്റെ പൊന്നോ ഇക്ക vere ലെവൽ</td>\n",
       "      <td>Positive</td>\n",
       "    </tr>\n",
       "    <tr>\n",
       "      <th>1762</th>\n",
       "      <td>Katta katta katta katta waiting....cant wait man</td>\n",
       "      <td>Positive</td>\n",
       "    </tr>\n",
       "    <tr>\n",
       "      <th>1763</th>\n",
       "      <td>Arjun reddy bgm poole thonniyathu enniku mathr...</td>\n",
       "      <td>unknown_state</td>\n",
       "    </tr>\n",
       "    <tr>\n",
       "      <th>1764</th>\n",
       "      <td>Fahad ikka ithilum polikum en urappayi</td>\n",
       "      <td>Positive</td>\n",
       "    </tr>\n",
       "    <tr>\n",
       "      <th>1765</th>\n",
       "      <td>Njan veendum kanan vannu 100 pravashyam enkilu...</td>\n",
       "      <td>Positive</td>\n",
       "    </tr>\n",
       "  </tbody>\n",
       "</table>\n",
       "<p>1766 rows × 2 columns</p>\n",
       "</div>"
      ],
      "text/plain": [
       "                                                   text              y\n",
       "0                   Mammooka ninghal mass aa pwoli item       Positive\n",
       "1         Waiting for Malayalam movie  For Tamil paiyan  not-malayalam\n",
       "2        ദളപതി ഫാൻസിന്റെ വക ഒരു ഒന്നൊന്നര വിജയാശംസകൾ...       Positive\n",
       "3     #Trailer pwolichuuuu ഓണത്തിന് വന്നങ്ങു തകർത്തേ...       Positive\n",
       "4      Mammoookkaaaa polichadukkiii katta waiting nv 21       Positive\n",
       "...                                                 ...            ...\n",
       "1761            Aa ചിരി uff എന്റെ പൊന്നോ ഇക്ക vere ലെവൽ       Positive\n",
       "1762   Katta katta katta katta waiting....cant wait man       Positive\n",
       "1763  Arjun reddy bgm poole thonniyathu enniku mathr...  unknown_state\n",
       "1764             Fahad ikka ithilum polikum en urappayi       Positive\n",
       "1765  Njan veendum kanan vannu 100 pravashyam enkilu...       Positive\n",
       "\n",
       "[1766 rows x 2 columns]"
      ]
     },
     "execution_count": 5,
     "metadata": {},
     "output_type": "execute_result"
    }
   ],
   "source": [
    "mal_dev"
   ]
  },
  {
   "cell_type": "code",
   "execution_count": 6,
   "id": "c3e7bb66",
   "metadata": {},
   "outputs": [
    {
     "data": {
      "image/png": "[encoded data removed]",
      "text/plain": [
       "<Figure size 432x288 with 1 Axes>"
      ]
     },
     "metadata": {
      "needs_background": "light"
     },
     "output_type": "display_data"
    }
   ],
   "source": [
    "fig, ax = plt.subplots()\n",
    "fig.suptitle(\"y\", fontsize=12)\n",
    "mal_train.groupby(\"y\").count().plot(kind=\"barh\", legend=False, \n",
    "        ax=ax).grid(axis='x')\n",
    "plt.show()"
   ]
  },
  {
   "cell_type": "code",
   "execution_count": 7,
   "id": "38b1afa4",
   "metadata": {},
   "outputs": [],
   "source": [
    "# Now we can define our training data and our dev data as well as targets\n",
    "train = mal_train\n",
    "test = mal_dev\n",
    "\n",
    "y_train = mal_train['y'].values\n",
    "y_test = mal_dev['y'].values\n"
   ]
  },
  {
   "cell_type": "code",
   "execution_count": 8,
   "id": "ed08a073",
   "metadata": {},
   "outputs": [],
   "source": [
    "# for ensemble: \n",
    "results = pd.DataFrame(mal_dev['y'])"
   ]
  },
  {
   "cell_type": "markdown",
   "id": "241dabfa",
   "metadata": {},
   "source": [
    "# Gettint text embeddings from the bert model"
   ]
  },
  {
   "cell_type": "code",
   "execution_count": 9,
   "id": "4c92bbbc",
   "metadata": {},
   "outputs": [
    {
     "name": "stderr",
     "output_type": "stream",
     "text": [
      "Some weights of the model checkpoint at bert-base-multilingual-uncased were not used when initializing BertModel: ['cls.predictions.transform.dense.bias', 'cls.predictions.transform.LayerNorm.bias', 'cls.predictions.transform.LayerNorm.weight', 'cls.predictions.decoder.weight', 'cls.seq_relationship.bias', 'cls.predictions.transform.dense.weight', 'cls.seq_relationship.weight', 'cls.predictions.bias']\n",
      "- This IS expected if you are initializing BertModel from the checkpoint of a model trained on another task or with another architecture (e.g. initializing a BertForSequenceClassification model from a BertForPreTraining model).\n",
      "- This IS NOT expected if you are initializing BertModel from the checkpoint of a model that you expect to be exactly identical (initializing a BertForSequenceClassification model from a BertForSequenceClassification model).\n"
     ]
    }
   ],
   "source": [
    "# I'll be using the embeddings from the multilinngual bert model\n",
    "device = torch.device('cuda' if torch.cuda.is_available() else 'cpu')\n",
    "\n",
    "tokenizer = AutoTokenizer.from_pretrained('bert-base-multilingual-uncased')\n",
    "model = AutoModel.from_pretrained('bert-base-multilingual-uncased').to(device)"
   ]
  },
  {
   "cell_type": "code",
   "execution_count": 10,
   "id": "4dcfaf7f",
   "metadata": {},
   "outputs": [
    {
     "name": "stderr",
     "output_type": "stream",
     "text": [
      "/home/ubuntu/pyenv/lib/python3.6/site-packages/ipykernel_launcher.py:10: UserWarning: To copy construct from a tensor, it is recommended to use sourceTensor.clone().detach() or sourceTensor.clone().detach().requires_grad_(True), rather than torch.tensor(sourceTensor).\n",
      "  # Remove the CWD from sys.path while we load stuff.\n"
     ]
    }
   ],
   "source": [
    "# We will start by gathering the embeddings for the validation set\n",
    "cls_val_list = []\n",
    "batch_size = 1000\n",
    "\n",
    "for batch_number, batch_test in test.groupby(np.arange(len(test)) // batch_size):\n",
    "    # tokanizing the text\n",
    "    tokenized_val = tokenizer(batch_test[\"text\"].values.tolist() , padding = 'max_length', truncation = True,  return_tensors=\"pt\", max_length=256)\n",
    "\n",
    "    # move on device (GPU)\n",
    "    tokenized_val = {k:torch.tensor(v).to(device) for k,v in tokenized_val.items()}\n",
    "\n",
    "    # get the cls hidden state\n",
    "    with torch.no_grad():\n",
    "        hidden_val = model(**tokenized_val)\n",
    "            \n",
    "    #get only the [CLS] hidden states\n",
    "    cls_val = hidden_val.last_hidden_state[:,0,:]\n",
    "    cls_val = cls_val.to(\"cpu\")\n",
    "    cls_val_list.append(cls_val)\n",
    "    del cls_val\n",
    "    del hidden_val\n",
    "    del tokenized_val\n",
    "    \n",
    "    torch.cuda.empty_cache()\n",
    "\n",
    "cls_val_list_final = []\n",
    "for i in range(len(cls_val_list)):\n",
    "    for j in range(len(cls_val_list[i])):\n",
    "        cls_val_list_final.append(cls_val_list[i][j])"
   ]
  },
  {
   "cell_type": "code",
   "execution_count": 11,
   "id": "82d5df31",
   "metadata": {},
   "outputs": [
    {
     "name": "stderr",
     "output_type": "stream",
     "text": [
      "/home/ubuntu/pyenv/lib/python3.6/site-packages/ipykernel_launcher.py:10: UserWarning: To copy construct from a tensor, it is recommended to use sourceTensor.clone().detach() or sourceTensor.clone().detach().requires_grad_(True), rather than torch.tensor(sourceTensor).\n",
      "  # Remove the CWD from sys.path while we load stuff.\n"
     ]
    }
   ],
   "source": [
    "# Get embeddigns for the trainins set\n",
    "cls_train_list = []\n",
    "batch_size = 1000\n",
    "\n",
    "for batch_number, batch_train in train.groupby(np.arange(len(train)) // batch_size):\n",
    "    # tokanizing the text\n",
    "    tokenized_train = tokenizer(batch_train[\"text\"].values.tolist() , padding = 'max_length', truncation = True,  return_tensors=\"pt\", max_length=256)\n",
    "\n",
    "    # move on device (GPU)\n",
    "    tokenized_train = {k:torch.tensor(v).to(device) for k,v in tokenized_train.items()}\n",
    "\n",
    "    # get the cls hidden state\n",
    "    with torch.no_grad():\n",
    "        hidden_train = model(**tokenized_train)\n",
    "            \n",
    "    #get only the [CLS] hidden states\n",
    "    cls_train = hidden_train.last_hidden_state[:,0,:]\n",
    "    cls_train = cls_train.to(\"cpu\")\n",
    "    cls_train_list.append(cls_train)\n",
    "    del cls_train\n",
    "    del hidden_train\n",
    "    del tokenized_train\n",
    "    \n",
    "    torch.cuda.empty_cache()\n",
    "\n",
    "cls_train_list_final = []\n",
    "for i in range(len(cls_train_list)):\n",
    "    for j in range(len(cls_train_list[i])):\n",
    "        cls_train_list_final.append(cls_train_list[i][j])"
   ]
  },
  {
   "cell_type": "code",
   "execution_count": 12,
   "id": "4c48a8a0",
   "metadata": {},
   "outputs": [
    {
     "data": {
      "text/plain": [
       "1766"
      ]
     },
     "execution_count": 12,
     "metadata": {},
     "output_type": "execute_result"
    }
   ],
   "source": [
    "len(cls_val_list_final)"
   ]
  },
  {
   "cell_type": "code",
   "execution_count": 13,
   "id": "7475d11f",
   "metadata": {},
   "outputs": [
    {
     "data": {
      "text/plain": [
       "15888"
      ]
     },
     "execution_count": 13,
     "metadata": {},
     "output_type": "execute_result"
    }
   ],
   "source": [
    "len(cls_train_list_final)"
   ]
  },
  {
   "cell_type": "code",
   "execution_count": null,
   "id": "28e42eda",
   "metadata": {},
   "outputs": [],
   "source": [
    "X_train = torch.stack(cls_train_list_final)\n",
    "X_train = pd.DataFrame(X_train)\n",
    "X_test = torch.stack(cls_val_list_final)\n",
    "X_test = pd.DataFrame(X_test)\n",
    "\n",
    "y_train = mal_train['y'].values\n",
    "y_test = mal_dev['y'].values"
   ]
  },
  {
   "cell_type": "markdown",
   "id": "83a4bf9a",
   "metadata": {},
   "source": [
    "# Training a cat boost classifier"
   ]
  },
  {
   "cell_type": "code",
   "execution_count": null,
   "id": "e3c6f85a",
   "metadata": {},
   "outputs": [],
   "source": [
    "from catboost import CatBoostClassifier\n",
    "cat = CatBoostClassifier(\n",
    "    iterations=200, \n",
    "    learning_rate=.5, \n",
    "    #loss_function='CrossEntropy'\n",
    ")\n"
   ]
  },
  {
   "cell_type": "code",
   "execution_count": null,
   "id": "0a2620bf",
   "metadata": {},
   "outputs": [],
   "source": [
    "## train classifier\n",
    "cat.fit(X_train, y_train)\n",
    "predicted = cat.predict(X_test)\n",
    "results['cat_boost_original_bert'] = predicted\n",
    "predicted_prob = cat.predict_proba(X_test)"
   ]
  },
  {
   "cell_type": "code",
   "execution_count": null,
   "id": "b9b4b180",
   "metadata": {},
   "outputs": [],
   "source": [
    "# lets see our model performance\n",
    "classes = np.unique(y_test)\n",
    "y_test_array = pd.get_dummies(y_test, drop_first=False).values\n",
    "    \n",
    "## Accuracy, Precision, Recall\n",
    "accuracy = metrics.accuracy_score(y_test, predicted)\n",
    "auc = metrics.roc_auc_score(y_test, predicted_prob, \n",
    "                            multi_class=\"ovr\")\n",
    "print(\"Accuracy:\",  round(accuracy,2))\n",
    "print(\"Auc:\", round(auc,2))\n",
    "print(\"Detail:\")\n",
    "print(metrics.classification_report(y_test, predicted))\n",
    "    \n",
    "## Plot confusion matrix\n",
    "cm = metrics.confusion_matrix(y_test, predicted)\n",
    "fig, ax = plt.subplots()\n",
    "sns.heatmap(cm, annot=True, fmt='d', ax=ax, cmap=plt.cm.Blues, \n",
    "            cbar=False)\n",
    "ax.set(xlabel=\"Pred\", ylabel=\"True\", xticklabels=classes, \n",
    "       yticklabels=classes, title=\"Confusion matrix\")\n",
    "plt.yticks(rotation=0)\n",
    "\n",
    "fig, ax = plt.subplots(nrows=1, ncols=2)\n",
    "## Plot roc\n",
    "for i in range(len(classes)):\n",
    "    fpr, tpr, thresholds = metrics.roc_curve(y_test_array[:,i],  \n",
    "                           predicted_prob[:,i])\n",
    "    ax[0].plot(fpr, tpr, lw=3, \n",
    "              label='{0} (area={1:0.2f})'.format(classes[i], \n",
    "                              metrics.auc(fpr, tpr))\n",
    "               )\n",
    "ax[0].plot([0,1], [0,1], color='navy', lw=3, linestyle='--')\n",
    "ax[0].set(xlim=[-0.05,1.0], ylim=[0.0,1.05], \n",
    "          xlabel='False Positive Rate', \n",
    "          ylabel=\"True Positive Rate (Recall)\", \n",
    "          title=\"Receiver operating characteristic\")\n",
    "ax[0].legend(loc=\"lower right\")\n",
    "ax[0].grid(True)\n",
    "    \n",
    "## Plot precision-recall curve\n",
    "for i in range(len(classes)):\n",
    "    precision, recall, thresholds = metrics.precision_recall_curve(\n",
    "                 y_test_array[:,i], predicted_prob[:,i])\n",
    "    ax[1].plot(recall, precision, lw=3, \n",
    "               label='{0} (area={1:0.2f})'.format(classes[i], \n",
    "                                  metrics.auc(recall, precision))\n",
    "              )\n",
    "ax[1].set(xlim=[0.0,1.05], ylim=[0.0,1.05], xlabel='Recall', \n",
    "          ylabel=\"Precision\", title=\"Precision-Recall curve\")\n",
    "ax[1].legend(loc=\"best\")\n",
    "ax[1].grid(True)\n",
    "plt.show()"
   ]
  },
  {
   "cell_type": "markdown",
   "id": "52b9eb5a",
   "metadata": {},
   "source": [
    "# Training a Random Forest Classifier"
   ]
  },
  {
   "cell_type": "code",
   "execution_count": null,
   "id": "f991bd58",
   "metadata": {},
   "outputs": [],
   "source": [
    "from sklearn.ensemble import RandomForestClassifier\n",
    "forest = RandomForestClassifier(max_depth=150, n_estimators=15, max_features=768)"
   ]
  },
  {
   "cell_type": "code",
   "execution_count": null,
   "id": "870a76ce",
   "metadata": {},
   "outputs": [],
   "source": [
    "\n",
    "## train classifier\n",
    "forest.fit(X_train, y_train)\n",
    "## test\n",
    "predicted = forest.predict(X_test)\n",
    "results['forest_original_bert'] = predicted\n",
    "predicted_prob = forest.predict_proba(X_test)"
   ]
  },
  {
   "cell_type": "code",
   "execution_count": null,
   "id": "951550ef",
   "metadata": {},
   "outputs": [],
   "source": [
    "# lets see our model performance\n",
    "classes = np.unique(y_test)\n",
    "y_test_array = pd.get_dummies(y_test, drop_first=False).values\n",
    "    \n",
    "## Accuracy, Precision, Recall\n",
    "accuracy = metrics.accuracy_score(y_test, predicted)\n",
    "auc = metrics.roc_auc_score(y_test, predicted_prob, \n",
    "                            multi_class=\"ovr\")\n",
    "print(\"Accuracy:\",  round(accuracy,2))\n",
    "print(\"Auc:\", round(auc,2))\n",
    "print(\"Detail:\")\n",
    "print(metrics.classification_report(y_test, predicted))\n",
    "    \n",
    "## Plot confusion matrix\n",
    "cm = metrics.confusion_matrix(y_test, predicted)\n",
    "fig, ax = plt.subplots()\n",
    "sns.heatmap(cm, annot=True, fmt='d', ax=ax, cmap=plt.cm.Blues, \n",
    "            cbar=False)\n",
    "ax.set(xlabel=\"Pred\", ylabel=\"True\", xticklabels=classes, \n",
    "       yticklabels=classes, title=\"Confusion matrix\")\n",
    "plt.yticks(rotation=0)\n",
    "\n",
    "fig, ax = plt.subplots(nrows=1, ncols=2)\n",
    "## Plot roc\n",
    "for i in range(len(classes)):\n",
    "    fpr, tpr, thresholds = metrics.roc_curve(y_test_array[:,i],  \n",
    "                           predicted_prob[:,i])\n",
    "    ax[0].plot(fpr, tpr, lw=3, \n",
    "              label='{0} (area={1:0.2f})'.format(classes[i], \n",
    "                              metrics.auc(fpr, tpr))\n",
    "               )\n",
    "ax[0].plot([0,1], [0,1], color='navy', lw=3, linestyle='--')\n",
    "ax[0].set(xlim=[-0.05,1.0], ylim=[0.0,1.05], \n",
    "          xlabel='False Positive Rate', \n",
    "          ylabel=\"True Positive Rate (Recall)\", \n",
    "          title=\"Receiver operating characteristic\")\n",
    "ax[0].legend(loc=\"lower right\")\n",
    "ax[0].grid(True)\n",
    "    \n",
    "## Plot precision-recall curve\n",
    "for i in range(len(classes)):\n",
    "    precision, recall, thresholds = metrics.precision_recall_curve(\n",
    "                 y_test_array[:,i], predicted_prob[:,i])\n",
    "    ax[1].plot(recall, precision, lw=3, \n",
    "               label='{0} (area={1:0.2f})'.format(classes[i], \n",
    "                                  metrics.auc(recall, precision))\n",
    "              )\n",
    "ax[1].set(xlim=[0.0,1.05], ylim=[0.0,1.05], xlabel='Recall', \n",
    "          ylabel=\"Precision\", title=\"Precision-Recall curve\")\n",
    "ax[1].legend(loc=\"best\")\n",
    "ax[1].grid(True)\n",
    "plt.show()"
   ]
  },
  {
   "cell_type": "markdown",
   "id": "a8302812",
   "metadata": {},
   "source": [
    "# fitting a logistic regression classifier"
   ]
  },
  {
   "cell_type": "code",
   "execution_count": null,
   "id": "a1c92d8b",
   "metadata": {},
   "outputs": [],
   "source": [
    "from sklearn.linear_model import LogisticRegression\n",
    "log =LogisticRegression(random_state=0, max_iter= 190)"
   ]
  },
  {
   "cell_type": "code",
   "execution_count": null,
   "id": "6054db23",
   "metadata": {},
   "outputs": [],
   "source": [
    "## pipeline\n",
    "\n",
    "## train classifier\n",
    "log.fit(X_train, y_train)\n",
    "## test\n",
    "predicted = log.predict(X_test)\n",
    "results['log_original_bert'] = predicted\n",
    "predicted_prob = log.predict_proba(X_test)"
   ]
  },
  {
   "cell_type": "code",
   "execution_count": null,
   "id": "199775da",
   "metadata": {},
   "outputs": [],
   "source": [
    "# lets see our model performance\n",
    "classes = np.unique(y_test)\n",
    "y_test_array = pd.get_dummies(y_test, drop_first=False).values\n",
    "    \n",
    "## Accuracy, Precision, Recall\n",
    "accuracy = metrics.accuracy_score(y_test, predicted)\n",
    "auc = metrics.roc_auc_score(y_test, predicted_prob, \n",
    "                            multi_class=\"ovr\")\n",
    "print(\"Accuracy:\",  round(accuracy,2))\n",
    "print(\"Auc:\", round(auc,2))\n",
    "print(\"Detail:\")\n",
    "print(metrics.classification_report(y_test, predicted))\n",
    "    \n",
    "## Plot confusion matrix\n",
    "cm = metrics.confusion_matrix(y_test, predicted)\n",
    "fig, ax = plt.subplots()\n",
    "sns.heatmap(cm, annot=True, fmt='d', ax=ax, cmap=plt.cm.Blues, \n",
    "            cbar=False)\n",
    "ax.set(xlabel=\"Pred\", ylabel=\"True\", xticklabels=classes, \n",
    "       yticklabels=classes, title=\"Confusion matrix\")\n",
    "plt.yticks(rotation=0)\n",
    "\n",
    "fig, ax = plt.subplots(nrows=1, ncols=2)\n",
    "## Plot roc\n",
    "for i in range(len(classes)):\n",
    "    fpr, tpr, thresholds = metrics.roc_curve(y_test_array[:,i],  \n",
    "                           predicted_prob[:,i])\n",
    "    ax[0].plot(fpr, tpr, lw=3, \n",
    "              label='{0} (area={1:0.2f})'.format(classes[i], \n",
    "                              metrics.auc(fpr, tpr))\n",
    "               )\n",
    "ax[0].plot([0,1], [0,1], color='navy', lw=3, linestyle='--')\n",
    "ax[0].set(xlim=[-0.05,1.0], ylim=[0.0,1.05], \n",
    "          xlabel='False Positive Rate', \n",
    "          ylabel=\"True Positive Rate (Recall)\", \n",
    "          title=\"Receiver operating characteristic\")\n",
    "ax[0].legend(loc=\"lower right\")\n",
    "ax[0].grid(True)\n",
    "    \n",
    "## Plot precision-recall curve\n",
    "for i in range(len(classes)):\n",
    "    precision, recall, thresholds = metrics.precision_recall_curve(\n",
    "                 y_test_array[:,i], predicted_prob[:,i])\n",
    "    ax[1].plot(recall, precision, lw=3, \n",
    "               label='{0} (area={1:0.2f})'.format(classes[i], \n",
    "                                  metrics.auc(recall, precision))\n",
    "              )\n",
    "ax[1].set(xlim=[0.0,1.05], ylim=[0.0,1.05], xlabel='Recall', \n",
    "          ylabel=\"Precision\", title=\"Precision-Recall curve\")\n",
    "ax[1].legend(loc=\"best\")\n",
    "ax[1].grid(True)\n",
    "plt.show()"
   ]
  },
  {
   "cell_type": "markdown",
   "id": "d1fd58ef",
   "metadata": {},
   "source": [
    "# training a k-neighboot classifier"
   ]
  },
  {
   "cell_type": "code",
   "execution_count": null,
   "id": "af2103e4",
   "metadata": {},
   "outputs": [],
   "source": [
    "from sklearn.neighbors import KNeighborsClassifier\n",
    "neigh = KNeighborsClassifier(n_neighbors=8, weights='distance')"
   ]
  },
  {
   "cell_type": "code",
   "execution_count": null,
   "id": "bcfb9566",
   "metadata": {},
   "outputs": [],
   "source": [
    "\n",
    "## train classifier\n",
    "neigh.fit(X_train, y_train)\n",
    "## test\n",
    "predicted = neigh.predict(X_test)\n",
    "results['neigh_original_bert'] = predicted\n",
    "predicted_prob = neigh.predict_proba(X_test)"
   ]
  },
  {
   "cell_type": "code",
   "execution_count": null,
   "id": "7b9da7c6",
   "metadata": {},
   "outputs": [],
   "source": [
    "# lets see our model performance\n",
    "classes = np.unique(y_test)\n",
    "y_test_array = pd.get_dummies(y_test, drop_first=False).values\n",
    "    \n",
    "## Accuracy, Precision, Recall\n",
    "accuracy = metrics.accuracy_score(y_test, predicted)\n",
    "auc = metrics.roc_auc_score(y_test, predicted_prob, \n",
    "                            multi_class=\"ovr\")\n",
    "print(\"Accuracy:\",  round(accuracy,2))\n",
    "print(\"Auc:\", round(auc,2))\n",
    "print(\"Detail:\")\n",
    "print(metrics.classification_report(y_test, predicted))\n",
    "    \n",
    "## Plot confusion matrix\n",
    "cm = metrics.confusion_matrix(y_test, predicted)\n",
    "fig, ax = plt.subplots()\n",
    "sns.heatmap(cm, annot=True, fmt='d', ax=ax, cmap=plt.cm.Blues, \n",
    "            cbar=False)\n",
    "ax.set(xlabel=\"Pred\", ylabel=\"True\", xticklabels=classes, \n",
    "       yticklabels=classes, title=\"Confusion matrix\")\n",
    "plt.yticks(rotation=0)\n",
    "\n",
    "fig, ax = plt.subplots(nrows=1, ncols=2)\n",
    "## Plot roc\n",
    "for i in range(len(classes)):\n",
    "    fpr, tpr, thresholds = metrics.roc_curve(y_test_array[:,i],  \n",
    "                           predicted_prob[:,i])\n",
    "    ax[0].plot(fpr, tpr, lw=3, \n",
    "              label='{0} (area={1:0.2f})'.format(classes[i], \n",
    "                              metrics.auc(fpr, tpr))\n",
    "               )\n",
    "ax[0].plot([0,1], [0,1], color='navy', lw=3, linestyle='--')\n",
    "ax[0].set(xlim=[-0.05,1.0], ylim=[0.0,1.05], \n",
    "          xlabel='False Positive Rate', \n",
    "          ylabel=\"True Positive Rate (Recall)\", \n",
    "          title=\"Receiver operating characteristic\")\n",
    "ax[0].legend(loc=\"lower right\")\n",
    "ax[0].grid(True)\n",
    "    \n",
    "## Plot precision-recall curve\n",
    "for i in range(len(classes)):\n",
    "    precision, recall, thresholds = metrics.precision_recall_curve(\n",
    "                 y_test_array[:,i], predicted_prob[:,i])\n",
    "    ax[1].plot(recall, precision, lw=3, \n",
    "               label='{0} (area={1:0.2f})'.format(classes[i], \n",
    "                                  metrics.auc(recall, precision))\n",
    "              )\n",
    "ax[1].set(xlim=[0.0,1.05], ylim=[0.0,1.05], xlabel='Recall', \n",
    "          ylabel=\"Precision\", title=\"Precision-Recall curve\")\n",
    "ax[1].legend(loc=\"best\")\n",
    "ax[1].grid(True)\n",
    "plt.show()"
   ]
  },
  {
   "cell_type": "markdown",
   "id": "e5aef1a5",
   "metadata": {},
   "source": [
    "# Ensemble"
   ]
  },
  {
   "cell_type": "code",
   "execution_count": null,
   "id": "3fd72eb3",
   "metadata": {},
   "outputs": [],
   "source": [
    "results.replace(['Negative', 'Positive','not-malayalam', 'Mixed_feelings','unknown_state' ], [0,1,2,3,4], inplace=True)\n",
    "results['original_majority_label_bert'] = results[results.columns[1:]].mode(axis=1)[0].astype(int)\n",
    "results.replace([0,1,2,3,4], ['Negative', 'Positive','not-malayalam', 'Mixed_feelings','unknown_state' ], inplace=True)\n",
    "results.to_csv('mal_results_original_bert.tsv', sep=\"\\t\", index = False)"
   ]
  },
  {
   "cell_type": "code",
   "execution_count": null,
   "id": "d2256eec",
   "metadata": {},
   "outputs": [],
   "source": [
    "## Plot confusion matrix\n",
    "print(metrics.classification_report(results['y'], results['original_majority_label_bert']))\n",
    "cm = metrics.confusion_matrix(results['y'], results['original_majority_label_bert'])\n",
    "fig, ax = plt.subplots()\n",
    "sns.heatmap(cm, annot=True, fmt='d', ax=ax, cmap=plt.cm.Blues, \n",
    "            cbar=False)\n",
    "ax.set(xlabel=\"Pred\", ylabel=\"True\", xticklabels=classes, \n",
    "       yticklabels=classes, title=\"Confusion matrix\")\n",
    "plt.yticks(rotation=0)\n",
    "plt.show()"
   ]
  }
 ],
 "metadata": {
  "kernelspec": {
   "display_name": "Python 3",
   "language": "python",
   "name": "python3"
  },
  "language_info": {
   "codemirror_mode": {
    "name": "ipython",
    "version": 3
   },
   "file_extension": ".py",
   "mimetype": "text/x-python",
   "name": "python",
   "nbconvert_exporter": "python",
   "pygments_lexer": "ipython3",
   "version": "3.6.9"
  }
 },
 "nbformat": 4,
 "nbformat_minor": 5
}
